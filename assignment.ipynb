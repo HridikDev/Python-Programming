{
 "cells": [
  {
   "cell_type": "code",
   "execution_count": null,
   "id": "1ea0bb70-ac4c-4043-a034-30c008245146",
   "metadata": {},
   "outputs": [],
   "source": [
    "                                                    DAUP Module 1 - Lab cycle"
   ]
  },
  {
   "cell_type": "code",
   "execution_count": 2,
   "id": "a1c1c11c-1b11-429d-9c75-4341b46a1e20",
   "metadata": {},
   "outputs": [
    {
     "name": "stdout",
     "output_type": "stream",
     "text": [
      "a is : 4 b is: 3\n"
     ]
    }
   ],
   "source": [
    "#1. Write a Python program to swap two variables using a temporary variable.\n",
    "a=3\n",
    "b=4\n",
    "temp=a\n",
    "a=b\n",
    "b=temp\n",
    "print(\"a is :\",a,\"b is:\",b)"
   ]
  },
  {
   "cell_type": "code",
   "execution_count": 4,
   "id": "cf1eab15-4cbe-47ac-b059-2f15653d7530",
   "metadata": {},
   "outputs": [
    {
     "name": "stdin",
     "output_type": "stream",
     "text": [
      "Enter a string hridik\n"
     ]
    },
    {
     "name": "stdout",
     "output_type": "stream",
     "text": [
      "the no. of vowels:  2\n"
     ]
    }
   ],
   "source": [
    "#2. Write a program that takes a user input string and returns the number of vowels in it.\n",
    "s=input(\"Enter a string\")\n",
    "v='aeiouAEIOU'\n",
    "count=0\n",
    "for i in s:\n",
    "    if i in v:\n",
    "        count+=1\n",
    "\n",
    "print(\"the no. of vowels: \",count)        "
   ]
  },
  {
   "cell_type": "code",
   "execution_count": 6,
   "id": "41ae7f26-ea99-4a27-aa43-248da1d25a6a",
   "metadata": {},
   "outputs": [
    {
     "name": "stdin",
     "output_type": "stream",
     "text": [
      "Enter a string hridik\n"
     ]
    },
    {
     "name": "stdout",
     "output_type": "stream",
     "text": [
      "the reversed string is: kidirh\n"
     ]
    }
   ],
   "source": [
    "#3. Write a program to reverse a string without using built-in functions.\n",
    "s=input(\"Enter a string\")\n",
    "rev=''\n",
    "for i in s:\n",
    "    rev=i+rev\n",
    "print(\"the reversed string is:\",rev)    "
   ]
  },
  {
   "cell_type": "code",
   "execution_count": 8,
   "id": "1f6e4e82-5ff7-4bb9-9e76-c966a934a4cb",
   "metadata": {},
   "outputs": [
    {
     "name": "stdout",
     "output_type": "stream",
     "text": [
      "Concatenated string is: hello world\n"
     ]
    }
   ],
   "source": [
    "#4. Concatenate two strings using variables and print the result.\n",
    "str1=\"hello\"\n",
    "str2=\"world\"\n",
    "con=str1+\" \"+str2\n",
    "print(\"Concatenated string is:\",con)"
   ]
  },
  {
   "cell_type": "code",
   "execution_count": 9,
   "id": "63299330-6181-4954-b4f7-6baa452af920",
   "metadata": {},
   "outputs": [
    {
     "name": "stdin",
     "output_type": "stream",
     "text": [
      "enter a string hridik\n",
      "enter substring hridik\n"
     ]
    },
    {
     "name": "stdout",
     "output_type": "stream",
     "text": [
      "substring found\n"
     ]
    }
   ],
   "source": [
    "#5. Write a program that checks whether a substring exists in a given string.\n",
    "str1=input(\"enter a string\")\n",
    "str2=input(\"enter substring\")\n",
    "if str1 in str2:\n",
    "    print(\"substring found\")\n",
    "else:\n",
    "    print(\"not found\")"
   ]
  },
  {
   "cell_type": "code",
   "execution_count": 14,
   "id": "f3a17348-0096-4f0e-bb3f-3d17d07b4bd2",
   "metadata": {},
   "outputs": [
    {
     "name": "stdout",
     "output_type": "stream",
     "text": [
      "maximum is: 6\n",
      "maximum is: 1\n"
     ]
    }
   ],
   "source": [
    "#6. Write a program to find the maximum and minimum elements in a list.\n",
    "lis=[1,2,3,4,5,6]\n",
    "maxi=max(list)\n",
    "mini=min(list)\n",
    "print(\"maximum is:\",maxi)\n",
    "print(\"maximum is:\",mini)"
   ]
  },
  {
   "cell_type": "code",
   "execution_count": 16,
   "id": "695ca64f-6428-4da7-a1d0-3af75db4f423",
   "metadata": {},
   "outputs": [
    {
     "name": "stdout",
     "output_type": "stream",
     "text": [
      "list without duplicates: [1, 2, 3, 4, 5, 6]\n"
     ]
    }
   ],
   "source": [
    "#7. Write a program to remove duplicates from a list.\n",
    "li=[1,2,2,3,3,4,4,5,6]\n",
    "del list\n",
    "dupli= list(set(li))\n",
    "print(\"list without duplicates:\",dupli)"
   ]
  },
  {
   "cell_type": "code",
   "execution_count": 20,
   "id": "5bfeb5c4-2dab-4553-b5b4-591f979bae06",
   "metadata": {},
   "outputs": [
    {
     "name": "stdout",
     "output_type": "stream",
     "text": [
      "sum is:  15\n",
      "average is:  3.0\n"
     ]
    }
   ],
   "source": [
    "#8. Create a tuple of 5 numbers. Print the sum and average of the numbers.\n",
    "num=(1,2,3,4,5)\n",
    "total=sum(num)\n",
    "avg=total/len(num)\n",
    "print(\"sum is: \",total)\n",
    "print(\"average is: \",avg)"
   ]
  },
  {
   "cell_type": "code",
   "execution_count": 21,
   "id": "76feaf85-94ba-4d2b-b0dc-9ff4788c6284",
   "metadata": {},
   "outputs": [
    {
     "name": "stdout",
     "output_type": "stream",
     "text": [
      "second largest:  34\n"
     ]
    }
   ],
   "source": [
    "#9. Write a program to find the second largest number in a list.\n",
    "lis=[144,22,43,34,15]\n",
    "lis.sort\n",
    "sec=lis[-2]\n",
    "print(\"second largest: \",sec)"
   ]
  },
  {
   "cell_type": "code",
   "execution_count": 25,
   "id": "d9317835-8c12-4094-9c9a-fd2681477f6c",
   "metadata": {},
   "outputs": [
    {
     "name": "stdout",
     "output_type": "stream",
     "text": [
      "2 appears 3 times.\n"
     ]
    }
   ],
   "source": [
    "#10.Write a Python function to count how many times an element appears in a list.\n",
    "def c_element(lis, element):\n",
    "    return lis.count(element)\n",
    "\n",
    "list1 = [1, 2, 3, 2, 4, 2, 5]\n",
    "element = 2\n",
    "print(f\"{element} appears {c_element(list1, element)} times.\")    "
   ]
  },
  {
   "cell_type": "code",
   "execution_count": 26,
   "id": "20117d3f-a660-42e6-acef-3b0f0c853561",
   "metadata": {},
   "outputs": [
    {
     "name": "stdout",
     "output_type": "stream",
     "text": [
      "Union: {1, 2, 3, 4}\n",
      "Intersection: {2, 3}\n"
     ]
    }
   ],
   "source": [
    "#11.Write a program to find the union and intersection of two sets.\n",
    "set1 = {1, 2, 3}\n",
    "set2 = {2, 3, 4}\n",
    "\n",
    "union = set1 | set2\n",
    "intersection = set1 & set2\n",
    "\n",
    "print(\"Union:\", union)\n",
    "print(\"Intersection:\", intersection)"
   ]
  },
  {
   "cell_type": "code",
   "execution_count": 28,
   "id": "98b4b6d1-62fd-4ac6-ab68-b8670b9afbda",
   "metadata": {},
   "outputs": [
    {
     "name": "stdout",
     "output_type": "stream",
     "text": [
      "Keys: ['name', 'age', 'city', 'job', 'hobby']\n",
      "Values: ['hridik', 22, 'kerala', 'security', 'guitar']\n"
     ]
    }
   ],
   "source": [
    "#12.Create a dictionary with 5 key-value pairs and print all keys and values.\n",
    "my_dict = {\n",
    "    \"name\": \"hridik\",\n",
    "    \"age\": 22,\n",
    "    \"city\": \"kerala\",\n",
    "    \"job\": \"security\",\n",
    "    \"hobby\": \"guitar\"\n",
    "}\n",
    "\n",
    "print(\"Keys:\", list(my_dict.keys()))\n",
    "print(\"Values:\", list(my_dict.values()))\n"
   ]
  },
  {
   "cell_type": "code",
   "execution_count": 29,
   "id": "6c6b3948-81f9-45bb-974f-46a8a1b37be0",
   "metadata": {},
   "outputs": [
    {
     "name": "stdin",
     "output_type": "stream",
     "text": [
      "Enter a string:  hridik\n"
     ]
    },
    {
     "name": "stdout",
     "output_type": "stream",
     "text": [
      "Character frequencies: {'h': 1, 'r': 1, 'i': 2, 'd': 1, 'k': 1}\n"
     ]
    }
   ],
   "source": [
    "#13.Write a program to count the frequency of characters in a string using a dictionary.\n",
    "s = input(\"Enter a string: \")\n",
    "freq = {}\n",
    "\n",
    "for char in s:\n",
    "    freq[char] = freq.get(char, 0) + 1\n",
    "\n",
    "print(\"Character frequencies:\", freq)"
   ]
  },
  {
   "cell_type": "code",
   "execution_count": 30,
   "id": "b18702b1-bff0-4763-8402-e4fdbb2f3da1",
   "metadata": {},
   "outputs": [
    {
     "name": "stdout",
     "output_type": "stream",
     "text": [
      "2 3 5 7 11 13 17 19 23 29 31 37 41 43 47 "
     ]
    }
   ],
   "source": [
    "#14.Write a program to print all prime numbers between 1 and 50.\n",
    "for num in range(2, 51):\n",
    "    prime = True\n",
    "    for i in range(2, int(num ** 0.5) + 1):\n",
    "        if num % i == 0:\n",
    "            prime = False\n",
    "            break\n",
    "    if prime:\n",
    "        print(num, end=\" \")"
   ]
  },
  {
   "cell_type": "code",
   "execution_count": 31,
   "id": "e3c5bc68-575e-4433-b03c-b866f63209f5",
   "metadata": {},
   "outputs": [
    {
     "name": "stdin",
     "output_type": "stream",
     "text": [
      "Enter a number:  5\n"
     ]
    },
    {
     "name": "stdout",
     "output_type": "stream",
     "text": [
      "5 x 1 = 5\n",
      "5 x 2 = 10\n",
      "5 x 3 = 15\n",
      "5 x 4 = 20\n",
      "5 x 5 = 25\n",
      "5 x 6 = 30\n",
      "5 x 7 = 35\n",
      "5 x 8 = 40\n",
      "5 x 9 = 45\n",
      "5 x 10 = 50\n"
     ]
    }
   ],
   "source": [
    "#15.Write a program to take user input and generate the multiplication table of the given number using a for loop.\n",
    "num = int(input(\"Enter a number: \"))\n",
    "\n",
    "for i in range(1, 11):\n",
    "    print(f\"{num} x {i} = {num * i}\")"
   ]
  },
  {
   "cell_type": "code",
   "execution_count": 34,
   "id": "b58d73ad-e64d-4236-9913-07f3966f69be",
   "metadata": {},
   "outputs": [
    {
     "name": "stdin",
     "output_type": "stream",
     "text": [
      "Enter number of terms:  10\n"
     ]
    },
    {
     "name": "stdout",
     "output_type": "stream",
     "text": [
      "0 1 1 2 3 5 8 13 21 34 "
     ]
    }
   ],
   "source": [
    "#16.Write a program to print Fibonacci series up to n terms.\n",
    "n = int(input(\"Enter number of terms: \"))\n",
    "a, b = 0, 1\n",
    "\n",
    "for _ in range(n):\n",
    "    print(a, end=\" \")\n",
    "    a, b = b, a + b"
   ]
  },
  {
   "cell_type": "code",
   "execution_count": null,
   "id": "502bb2c1-d9b7-4038-846f-73c5891324a3",
   "metadata": {},
   "outputs": [],
   "source": []
  }
 ],
 "metadata": {
  "kernelspec": {
   "display_name": "Python 3 (ipykernel)",
   "language": "python",
   "name": "python3"
  },
  "language_info": {
   "codemirror_mode": {
    "name": "ipython",
    "version": 3
   },
   "file_extension": ".py",
   "mimetype": "text/x-python",
   "name": "python",
   "nbconvert_exporter": "python",
   "pygments_lexer": "ipython3",
   "version": "3.12.1"
  }
 },
 "nbformat": 4,
 "nbformat_minor": 5
}
