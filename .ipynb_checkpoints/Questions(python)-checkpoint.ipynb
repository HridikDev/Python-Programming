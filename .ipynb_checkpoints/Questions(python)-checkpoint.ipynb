{
 "cells": [
  {
   "cell_type": "markdown",
   "id": "7490b56b-b781-44d6-8574-ac9883497971",
   "metadata": {},
   "source": [
    "Lab Exercise Module 1 and Module 2\n",
    "\n",
    "1. Write a program that checks if an entered number is prime\n",
    "2. Write a program to print a pyramid of numbers using for loop\n",
    "3. Write a program to make a calculator using modular code\n",
    "4. Write a program to accept a list of numbers and print all numbers greater than the\n",
    "average.\n",
    "5. Write a program to handle ZeroDivisionError while dividing two numbers.\n",
    "6. Write a program to define a custom exception for invalid marks (e.g., negative or above\n",
    "100) and raise it if the input is invalid.\n",
    "7. Write a program that handles multiple exceptions: divide by zero, invalid input, and index\n",
    "out of range.\n",
    "8. Write a program to create a tuple with subject names and display them using a loop.\n",
    "\n",
    "9. Write a program to create two sets of numbers and perform union, intersection,\n",
    "difference, and symmetric difference.\n",
    "10. Write a program to create a dictionary of student names and marks, then print students\n",
    "who scored above 75.\n",
    "11. Write a program to create a nested dictionary of student names and their subject marks,\n",
    "then display each student’s details.\n",
    "12. Write a program to create a dictionary that stores an integer, float, string, list, tuple, set,\n",
    "and another dictionary as values, then print each key and its value.\n",
    "13. Write a program to read a file and display the number of words in it.\n",
    "14. Write a program to write 5 lines to a file and then append 2 more lines."
   ]
  },
  {
   "cell_type": "code",
   "execution_count": null,
   "id": "11b210cb-65d0-4e8f-9fe4-ca7e54fc1429",
   "metadata": {},
   "outputs": [],
   "source": []
  }
 ],
 "metadata": {
  "kernelspec": {
   "display_name": "Python 3 (ipykernel)",
   "language": "python",
   "name": "python3"
  },
  "language_info": {
   "codemirror_mode": {
    "name": "ipython",
    "version": 3
   },
   "file_extension": ".py",
   "mimetype": "text/x-python",
   "name": "python",
   "nbconvert_exporter": "python",
   "pygments_lexer": "ipython3",
   "version": "3.12.1"
  }
 },
 "nbformat": 4,
 "nbformat_minor": 5
}
