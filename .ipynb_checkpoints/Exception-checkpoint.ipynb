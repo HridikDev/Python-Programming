{
 "cells": [
  {
   "cell_type": "code",
   "execution_count": 2,
   "id": "3b1bccd3-2737-4e25-a108-633e9cec8f82",
   "metadata": {},
   "outputs": [
    {
     "ename": "NameError",
     "evalue": "name 'x' is not defined",
     "output_type": "error",
     "traceback": [
      "\u001b[31m---------------------------------------------------------------------------\u001b[39m",
      "\u001b[31mNameError\u001b[39m                                 Traceback (most recent call last)",
      "\u001b[36mCell\u001b[39m\u001b[36m \u001b[39m\u001b[32mIn[2]\u001b[39m\u001b[32m, line 2\u001b[39m\n\u001b[32m      1\u001b[39m a=\u001b[32m10\u001b[39m\n\u001b[32m----> \u001b[39m\u001b[32m2\u001b[39m \u001b[38;5;28mprint\u001b[39m(\u001b[43mx\u001b[49m)\n\u001b[32m      3\u001b[39m \u001b[38;5;28mprint\u001b[39m(a)\n",
      "\u001b[31mNameError\u001b[39m: name 'x' is not defined"
     ]
    }
   ],
   "source": [
    "a=10\n",
    "print(x)\n",
    "print(a)"
   ]
  },
  {
   "cell_type": "code",
   "execution_count": 4,
   "id": "6d6adfb6-4a9d-4205-968e-7acc27284f4c",
   "metadata": {},
   "outputs": [
    {
     "name": "stdout",
     "output_type": "stream",
     "text": [
      "Error occurred name 'x' is not defined\n",
      "10\n"
     ]
    }
   ],
   "source": [
    "#so this method is used\n",
    "a=10\n",
    "try:\n",
    "    print(x)\n",
    "except Exception as e:\n",
    "    print(\"Error occurred\",e)\n",
    "print(a)    "
   ]
  },
  {
   "cell_type": "code",
   "execution_count": 8,
   "id": "a6971d6e-a116-41cb-aaf9-f877f0b6cfcb",
   "metadata": {},
   "outputs": [
    {
     "name": "stdin",
     "output_type": "stream",
     "text": [
      "Enter a number:  0\n"
     ]
    },
    {
     "name": "stdout",
     "output_type": "stream",
     "text": [
      "Error occurred:  division by zero\n"
     ]
    }
   ],
   "source": [
    "try:\n",
    "    x=int(input(\"Enter a number: \"))\n",
    "    y=10/x\n",
    "    print(\"Result: \",y)\n",
    "except Exception as e:\n",
    "    print(\"Error occurred: \",e)"
   ]
  },
  {
   "cell_type": "code",
   "execution_count": 7,
   "id": "df3c2b5e-d691-4102-9f90-c12a4786b9a0",
   "metadata": {},
   "outputs": [
    {
     "name": "stdout",
     "output_type": "stream",
     "text": [
      "You cantnot divide by zero\n"
     ]
    }
   ],
   "source": [
    "try:\n",
    "    result=10/0\n",
    "except Exception as e:\n",
    "    print(\"You cantnot divide by zero\")"
   ]
  },
  {
   "cell_type": "code",
   "execution_count": 9,
   "id": "fa38e6e5-fabe-47b4-a54e-63cc86692d96",
   "metadata": {},
   "outputs": [
    {
     "name": "stdout",
     "output_type": "stream",
     "text": [
      "some error occurred division by zero\n"
     ]
    }
   ],
   "source": [
    "try:\n",
    "    result=10/0\n",
    "except Exception as e:\n",
    "    print(\"some error occurred\",e)\n",
    "except ZeroDivisionError:\n",
    "    print(\"You cannot divide by zero\")"
   ]
  },
  {
   "cell_type": "code",
   "execution_count": 10,
   "id": "509bb1fe-d770-42da-ad58-bb606f6ad1a3",
   "metadata": {},
   "outputs": [
    {
     "ename": "TypeError",
     "evalue": "'list' object is not callable",
     "output_type": "error",
     "traceback": [
      "\u001b[31m---------------------------------------------------------------------------\u001b[39m",
      "\u001b[31mTypeError\u001b[39m                                 Traceback (most recent call last)",
      "\u001b[36mCell\u001b[39m\u001b[36m \u001b[39m\u001b[32mIn[10]\u001b[39m\u001b[32m, line 2\u001b[39m\n\u001b[32m      1\u001b[39m lst=[\u001b[32m1\u001b[39m,\u001b[32m2\u001b[39m,\u001b[32m3\u001b[39m]\n\u001b[32m----> \u001b[39m\u001b[32m2\u001b[39m \u001b[38;5;28mprint\u001b[39m(\u001b[43mlst\u001b[49m\u001b[43m(\u001b[49m\u001b[32;43m3\u001b[39;49m\u001b[43m)\u001b[49m)\n",
      "\u001b[31mTypeError\u001b[39m: 'list' object is not callable"
     ]
    }
   ],
   "source": [
    "lst=[1,2,3]\n",
    "print(lst(3))"
   ]
  },
  {
   "cell_type": "code",
   "execution_count": 13,
   "id": "0a644715-e0fd-4f85-a90c-de53ce6b384f",
   "metadata": {},
   "outputs": [
    {
     "name": "stdin",
     "output_type": "stream",
     "text": [
      "Enter numerator: a\n"
     ]
    },
    {
     "name": "stdout",
     "output_type": "stream",
     "text": [
      "not a valid number\n"
     ]
    }
   ],
   "source": [
    "try:\n",
    "    num=int(input(\"Enter numerator:\"))\n",
    "    print(\"The number is \",num)\n",
    "except ValueError:\n",
    "    print(\"not a valid number\")"
   ]
  },
  {
   "cell_type": "code",
   "execution_count": 15,
   "id": "374de26f-5c57-485f-a217-4fd9865b4f83",
   "metadata": {},
   "outputs": [
    {
     "name": "stdin",
     "output_type": "stream",
     "text": [
      "Enter numerator:  12\n",
      "Enter denominator:  0\n"
     ]
    },
    {
     "name": "stdout",
     "output_type": "stream",
     "text": [
      "Denominator cannot be zero\n"
     ]
    }
   ],
   "source": [
    "try:\n",
    "    a=int(input(\"Enter numerator: \"))\n",
    "    b=int(input(\"Enter denominator: \"))\n",
    "    result=a/b\n",
    "    print(\"Result is:\",result)\n",
    "except ValueError:\n",
    "    print(\"Please enter valid integer\")\n",
    "except ZeroDivisionError:\n",
    "    print(\"Denominator cannot be zero\")"
   ]
  },
  {
   "cell_type": "code",
   "execution_count": 18,
   "id": "22b1510c-3bef-4595-8bd1-7f3e679c8493",
   "metadata": {},
   "outputs": [
    {
     "name": "stdout",
     "output_type": "stream",
     "text": [
      "File not found\n",
      "Execution complete\n"
     ]
    }
   ],
   "source": [
    "try:\n",
    "    f=open(\"sample.txt\",\"r\")\n",
    "    content=f.read()\n",
    "except FileNotFoundError:\n",
    "    print(\"File not found\")\n",
    "else:\n",
    "    print(\"File content:\\n\",content)\n",
    "finally:\n",
    "    print(\"Execution complete\")"
   ]
  },
  {
   "cell_type": "code",
   "execution_count": 21,
   "id": "96b7e787-d6c8-4956-8fd6-85f64dde1b67",
   "metadata": {},
   "outputs": [
    {
     "name": "stdin",
     "output_type": "stream",
     "text": [
      "Enter your age: -1\n"
     ]
    },
    {
     "name": "stdout",
     "output_type": "stream",
     "text": [
      "Error:  Age cannot be negative\n"
     ]
    }
   ],
   "source": [
    "def check_age(age):\n",
    "    if age<0:\n",
    "        raise ValueError(\"Age cannot be negative\")#when u have a condition to stop the code\n",
    "        print(\"valid age\",age)\n",
    "try:\n",
    "    age=int(input(\"Enter your age:\"))\n",
    "    check_age(age)\n",
    "except ValueError as ve:\n",
    "    print(\"Error: \",ve)"
   ]
  },
  {
   "cell_type": "code",
   "execution_count": 22,
   "id": "c5f25dea-fcbe-4aa6-b261-d6394f6e164b",
   "metadata": {},
   "outputs": [
    {
     "ename": "SyntaxError",
     "evalue": "invalid syntax (664946664.py, line 3)",
     "output_type": "error",
     "traceback": [
      "  \u001b[36mCell\u001b[39m\u001b[36m \u001b[39m\u001b[32mIn[22]\u001b[39m\u001b[32m, line 3\u001b[39m\n\u001b[31m    \u001b[39m\u001b[31mdef\u001b[39m\n            ^\n\u001b[31mSyntaxError\u001b[39m\u001b[31m:\u001b[39m invalid syntax\n"
     ]
    }
   ],
   "source": [
    "class NegativeNumberError(Exception):\n",
    "    pass\n",
    "def     "
   ]
  },
  {
   "cell_type": "markdown",
   "id": "11188e0a-2cfb-4ac1-ac18-f07eba672ba5",
   "metadata": {},
   "source": [
    "<h1>Questions</h1>"
   ]
  },
  {
   "cell_type": "code",
   "execution_count": 24,
   "id": "80b3725e-c9af-4151-afd6-bd5d663fff81",
   "metadata": {},
   "outputs": [],
   "source": [
    "#1.Write a program that takes a string input and convert it to an integer.Handle the case where conversion fails.\n",
    "#2.create a calculator that handles ZeroDivisionError,ValueError,and any unexcepted error using a genetic except block."
   ]
  },
  {
   "cell_type": "code",
   "execution_count": 32,
   "id": "f9fafc29-38b9-45b0-91d6-c2f9c1072149",
   "metadata": {},
   "outputs": [
    {
     "name": "stdin",
     "output_type": "stream",
     "text": [
      "Enter 1st number: 2\n",
      "Enter 2nd number: 2\n"
     ]
    },
    {
     "name": "stdout",
     "output_type": "stream",
     "text": [
      "1.Addition\n",
      "2.Subtraction\n",
      "3.Division\n",
      "4.Multiplication\n"
     ]
    },
    {
     "name": "stdin",
     "output_type": "stream",
     "text": [
      "Enter your Choice: 1\n"
     ]
    },
    {
     "name": "stdout",
     "output_type": "stream",
     "text": [
      "4\n"
     ]
    }
   ],
   "source": [
    "a=int(input(\"Enter 1st number:\"))\n",
    "b=int(input(\"Enter 2nd number:\"))\n",
    "print(\"1.Addition\")\n",
    "print(\"2.Subtraction\")\n",
    "print(\"3.Division\")\n",
    "print(\"4.Multiplication\")\n",
    "try:\n",
    "    choice=int(input(\"Enter your Choice:\"))\n",
    "    if(choice==1):\n",
    "            print(a+b) \n",
    "    elif(choice==2):\n",
    "                print(a-b)\n",
    "    elif(choice==3):\n",
    "                print(a/b)\n",
    "    elif(choice==4):\n",
    "                print(a*b) \n",
    "    else:\n",
    "        print(\"Invalid choice\")\n",
    "except ValueError:\n",
    "    print(\"Please enter valid integer\")\n",
    "except ZeroDivisionError:\n",
    "    print(\"Denominator cannot be zero\")"
   ]
  },
  {
   "cell_type": "code",
   "execution_count": 1,
   "id": "2dc71c24-bf59-4b8c-83a4-969c5913f5fa",
   "metadata": {},
   "outputs": [
    {
     "name": "stdout",
     "output_type": "stream",
     "text": [
      "Created the file and data written\n"
     ]
    }
   ],
   "source": [
    "with open(\"file.txt\",\"w\") as file:\n",
    "    file.write(\"Hello\\n\")\n",
    "    file.write(\"Welcome to file operation in python\")\n",
    "print(\"Created the file and data written\")    "
   ]
  },
  {
   "cell_type": "code",
   "execution_count": 3,
   "id": "19ba7304-2ee3-471b-a02f-2e503ff42e98",
   "metadata": {},
   "outputs": [
    {
     "name": "stdout",
     "output_type": "stream",
     "text": [
      "\n",
      "Read from file1:\n",
      "Hello\n",
      "Welcome to file operation in python\n"
     ]
    }
   ],
   "source": [
    "with open(\"file.txt\",\"r\") as file:\n",
    "    b=file.read()\n",
    "print(\"\\nRead from file1:\")\n",
    "print(b)"
   ]
  },
  {
   "cell_type": "code",
   "execution_count": 10,
   "id": "06085987-33f7-4b67-a996-017a82859121",
   "metadata": {},
   "outputs": [
    {
     "name": "stdout",
     "output_type": "stream",
     "text": [
      "\n",
      " data appended to file1\n"
     ]
    }
   ],
   "source": [
    "with open(\"file.txt\", \"a\") as file:\n",
    "    file.write(\"\\nThis is an appand lines\")\n",
    "print(\"\\n data appended to file1\")    "
   ]
  },
  {
   "cell_type": "code",
   "execution_count": 11,
   "id": "e87de6b2-6615-4812-84dd-a8311ba130eb",
   "metadata": {},
   "outputs": [],
   "source": [
    "file=open(\"manual.txt\",\"w\")"
   ]
  },
  {
   "cell_type": "code",
   "execution_count": 12,
   "id": "93d83194-b748-425d-809b-71cc267a5380",
   "metadata": {},
   "outputs": [],
   "source": [
    "file.write(\"The file is opened in manaul method\")\n",
    "file.close()"
   ]
  },
  {
   "cell_type": "code",
   "execution_count": 13,
   "id": "c6065f5d-af83-4811-a19a-4cf97384e45e",
   "metadata": {},
   "outputs": [
    {
     "name": "stdout",
     "output_type": "stream",
     "text": [
      "file does not exist\n"
     ]
    }
   ],
   "source": [
    "import os\n",
    "if os.path.exists(\"manaul.txt\"):\n",
    "    os.remove(\"manaul.txt\")\n",
    "    print(\"file deleted sucessfully\")\n",
    "else:\n",
    "    print(\"file does not exist\")"
   ]
  },
  {
   "cell_type": "code",
   "execution_count": 14,
   "id": "2ec865b7-b837-441c-aa05-49d91a84eb6c",
   "metadata": {},
   "outputs": [
    {
     "name": "stdout",
     "output_type": "stream",
     "text": [
      "\n",
      "Error: File not in the location\n"
     ]
    }
   ],
   "source": [
    "try:\n",
    "    with open(\"c.txt\",\"r\") as file:\n",
    "        a=file.read()\n",
    "        print(a)\n",
    "except FileNotFoundError:\n",
    "    print(\"\\nError: File not in the location\")"
   ]
  },
  {
   "cell_type": "code",
   "execution_count": 18,
   "id": "4a864f59-4e2a-4542-845c-2e8085a21023",
   "metadata": {},
   "outputs": [
    {
     "name": "stdout",
     "output_type": "stream",
     "text": [
      "list of lines written to the file\n"
     ]
    }
   ],
   "source": [
    "lines=[\"python is fun!\\n\",\"File handling is useful\\n\",\"practice make perfect.\"]\n",
    "with open(\"lines.txt\",\"w\") as file:\n",
    "        file.writelines(lines)\n",
    "print(\"list of lines written to the file\")"
   ]
  },
  {
   "cell_type": "code",
   "execution_count": 19,
   "id": "2efd2e36-6eba-46c8-8a08-85330dfa1356",
   "metadata": {},
   "outputs": [
    {
     "name": "stdout",
     "output_type": "stream",
     "text": [
      "python is fun!\n",
      "File handling is useful\n",
      "practice make perfect.\n"
     ]
    }
   ],
   "source": [
    "with open(\"lines.txt\",\"r\") as file:\n",
    "    line=file.read()\n",
    "    print(line)"
   ]
  },
  {
   "cell_type": "code",
   "execution_count": 21,
   "id": "0184e076-152f-4151-b7bb-5cdcee6f511f",
   "metadata": {},
   "outputs": [
    {
     "name": "stdout",
     "output_type": "stream",
     "text": [
      "\n",
      "File content as list:\n",
      "['python is fun!\\n', 'File handling is useful\\n', 'practice make perfect.']\n"
     ]
    }
   ],
   "source": [
    "with open(\"lines.txt\",\"r\") as file:\n",
    "    lines=file.readlines()\n",
    "print(\"\\nFile content as list:\")\n",
    "print(lines)"
   ]
  },
  {
   "cell_type": "code",
   "execution_count": 25,
   "id": "bb0d82d0-ed2c-45f9-bee6-928eeed8cd88",
   "metadata": {},
   "outputs": [
    {
     "name": "stdout",
     "output_type": "stream",
     "text": [
      "Renamed the file\n"
     ]
    }
   ],
   "source": [
    "import os\n",
    "os.rename(\"file.txt\",\"new1_lines.txt\")\n",
    "print(\"Renamed the file\")"
   ]
  },
  {
   "cell_type": "code",
   "execution_count": 26,
   "id": "b4875d83-5037-4ad4-b561-589f689cc1e0",
   "metadata": {},
   "outputs": [
    {
     "name": "stdout",
     "output_type": "stream",
     "text": [
      "size of the file:67 byte\n"
     ]
    }
   ],
   "source": [
    "size=os.path.getsize(\"new1_lines.txt\")\n",
    "print(f\"size of the file:{size} byte\")"
   ]
  },
  {
   "cell_type": "code",
   "execution_count": 28,
   "id": "db1b3e2b-a28f-4f8b-bc86-55638b34588a",
   "metadata": {},
   "outputs": [
    {
     "name": "stdout",
     "output_type": "stream",
     "text": [
      "\n",
      " is File readable? True\n",
      "\n",
      " is file writeable? False\n"
     ]
    }
   ],
   "source": [
    "with open(\"new1_lines.txt\",\"r\") as file:\n",
    "        print(\"\\n is File readable?\",file.readable())\n",
    "        print(\"\\n is file writeable?\",file.writable())"
   ]
  },
  {
   "cell_type": "markdown",
   "id": "c70ef671-d958-4503-8c93-acc80a382720",
   "metadata": {},
   "source": [
    "Write and Read a File\n",
    "    1.Write 5 lines of text to a file called myfile.txt\n",
    "    2.Read the contents and print them.\n",
    "check if file Exists\n",
    "    1.Use the os module to check if a file exists before trying to read it.\n",
    "Append Data\n",
    "1.Append 2 more lines to an existing file without overwritting the original content"
   ]
  },
  {
   "cell_type": "code",
   "execution_count": null,
   "id": "5971ab4d-11b0-4317-b138-19e097f1dd1e",
   "metadata": {},
   "outputs": [],
   "source": []
  }
 ],
 "metadata": {
  "kernelspec": {
   "display_name": "Python 3 (ipykernel)",
   "language": "python",
   "name": "python3"
  },
  "language_info": {
   "codemirror_mode": {
    "name": "ipython",
    "version": 3
   },
   "file_extension": ".py",
   "mimetype": "text/x-python",
   "name": "python",
   "nbconvert_exporter": "python",
   "pygments_lexer": "ipython3",
   "version": "3.12.1"
  }
 },
 "nbformat": 4,
 "nbformat_minor": 5
}
