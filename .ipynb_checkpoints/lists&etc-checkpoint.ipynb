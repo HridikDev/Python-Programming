{
 "cells": [
  {
   "cell_type": "code",
   "execution_count": 6,
   "id": "3735f7ea-1f80-412c-832b-bc90f50c1817",
   "metadata": {},
   "outputs": [
    {
     "name": "stdout",
     "output_type": "stream",
     "text": [
      "hello\n",
      "140711228422616\n",
      "1\n",
      "23\n",
      "40\n",
      "63\n",
      "1.7391304347826086\n",
      "920\n"
     ]
    }
   ],
   "source": [
    "print(\"hello\")\n",
    "\n",
    "\n",
    "\n",
    "a=2\n",
    "print(id(a))\n",
    "\n",
    "blah = 1\n",
    "\n",
    "print(blah)\n",
    "\n",
    "KmPerHour = 23\n",
    "print(KmPerHour)\n",
    "\n",
    "km_per_hour = 40\n",
    "print(km_per_hour)\n",
    "print(km_per_hour+KmPerHour)\n",
    "print(km_per_hour/KmPerHour)\n",
    "another = km_per_hour*KmPerHour\n",
    "print(another)"
   ]
  },
  {
   "cell_type": "code",
   "execution_count": 8,
   "id": "a6cde940-1682-47c8-bc18-1d02a44cbe70",
   "metadata": {},
   "outputs": [
    {
     "ename": "TypeError",
     "evalue": "'str' object does not support item assignment",
     "output_type": "error",
     "traceback": [
      "\u001b[1;31m---------------------------------------------------------------------------\u001b[0m",
      "\u001b[1;31mTypeError\u001b[0m                                 Traceback (most recent call last)",
      "Cell \u001b[1;32mIn[8], line 2\u001b[0m\n\u001b[0;32m      1\u001b[0m message \u001b[38;5;241m=\u001b[39m \u001b[38;5;124m\"\u001b[39m\u001b[38;5;124mWelcom to ICF0SS\u001b[39m\u001b[38;5;124m\"\u001b[39m\n\u001b[1;32m----> 2\u001b[0m \u001b[43mmessage\u001b[49m\u001b[43m[\u001b[49m\u001b[38;5;241;43m5\u001b[39;49m\u001b[43m]\u001b[49m \u001b[38;5;241m=\u001b[39m \u001b[38;5;124m'\u001b[39m\u001b[38;5;124mw\u001b[39m\u001b[38;5;124m'\u001b[39m\n\u001b[0;32m      3\u001b[0m \u001b[38;5;28mprint\u001b[39m(message)\n",
      "\u001b[1;31mTypeError\u001b[0m: 'str' object does not support item assignment"
     ]
    }
   ],
   "source": [
    "message = \"Welcom to ICF0SS\"\n",
    "message[5] = 'w'\n",
    "print(message)"
   ]
  },
  {
   "cell_type": "code",
   "execution_count": 11,
   "id": "51408387-a33f-4246-807c-c0af9147460d",
   "metadata": {},
   "outputs": [
    {
     "name": "stdout",
     "output_type": "stream",
     "text": [
      "['red', 'blue', 'green']\n",
      "['pink', 'blue', 'orange']\n"
     ]
    },
    {
     "data": {
      "text/plain": [
       "list"
      ]
     },
     "execution_count": 11,
     "metadata": {},
     "output_type": "execute_result"
    }
   ],
   "source": [
    "color = [\"red\", \"blue\", \"green\"]\n",
    "print(color)\n",
    "color[0] = \"pink\"\n",
    "color[2] = \"orange\"\n",
    "print(color)\n",
    "type(color)"
   ]
  },
  {
   "cell_type": "code",
   "execution_count": 35,
   "id": "668dc87c-b1a3-429f-a3e9-b7c7f2bb3f8d",
   "metadata": {},
   "outputs": [
    {
     "name": "stdout",
     "output_type": "stream",
     "text": [
      "123\n"
     ]
    }
   ],
   "source": [
    "dicto = {\"word\": \"hello\" , \"num\": 123}\n",
    "# type(dicto)\n",
    "print(dicto[\"num\"])"
   ]
  },
  {
   "cell_type": "code",
   "execution_count": 43,
   "id": "ffc87421-b328-4986-ac25-200048d7b050",
   "metadata": {
    "editable": true,
    "slideshow": {
     "slide_type": ""
    },
    "tags": []
   },
   "outputs": [
    {
     "name": "stdout",
     "output_type": "stream",
     "text": [
      "['four', 'five', 'six']\n",
      "[1, 2, [1, 2, 3, 4, 5, 6, 7], 3, 4]\n",
      "[1, 2, 3, 4, 5, 6, 7]\n",
      "4\n"
     ]
    }
   ],
   "source": [
    "l = [\"one\",\"two\",\"three\", \"four\",\"five\", \"six\", \"seven\", \"eighth\", \"nine\", \"zero\"]\n",
    "print(l[3:6])\n",
    "\n",
    "l1 = [\"one\",\"two\",\"three\", [1,2,[1,2,3,4,5,6,7],3,4], \"four\",\"five\", \"six\", \"seven\", \"eighth\", \"nine\", \"zero\"]\n",
    "print(l1[3])\n",
    "print(l1[3][2])\n",
    "print(l1[3][2][3])"
   ]
  }
 ],
 "metadata": {
  "kernelspec": {
   "display_name": "Python 3 (ipykernel)",
   "language": "python",
   "name": "python3"
  },
  "language_info": {
   "codemirror_mode": {
    "name": "ipython",
    "version": 3
   },
   "file_extension": ".py",
   "mimetype": "text/x-python",
   "name": "python",
   "nbconvert_exporter": "python",
   "pygments_lexer": "ipython3",
   "version": "3.12.1"
  }
 },
 "nbformat": 4,
 "nbformat_minor": 5
}
