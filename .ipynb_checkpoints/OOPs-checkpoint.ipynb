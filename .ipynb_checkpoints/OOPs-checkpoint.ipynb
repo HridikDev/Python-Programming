{
 "cells": [
  {
   "cell_type": "code",
   "execution_count": 1,
   "id": "774652d2-a031-4384-b755-0600dffabe08",
   "metadata": {},
   "outputs": [
    {
     "name": "stdout",
     "output_type": "stream",
     "text": [
      "<class 'int'>\n",
      "<class 'function'>\n"
     ]
    }
   ],
   "source": [
    "a=1\n",
    "print(type(a))\n",
    "\n",
    "def display():\n",
    "    pass\n",
    "\n",
    "print(type(display))    "
   ]
  },
  {
   "cell_type": "code",
   "execution_count": 4,
   "id": "e7f9178e-716a-4922-905e-c85e3d0bea15",
   "metadata": {},
   "outputs": [
    {
     "name": "stdout",
     "output_type": "stream",
     "text": [
      "Name: Alice, Age: 21\n",
      "Name: Bob, Age: 22\n"
     ]
    }
   ],
   "source": [
    "class Student:\n",
    "    def __init__(self, name, age):\n",
    "        self.name=name\n",
    "        self.age=age\n",
    "    def display_info(self):\n",
    "        print(f\"Name: {self.name}, Age: {self.age}\")\n",
    "\n",
    "#object creation\n",
    "s1=Student(\"Alice\", 21)\n",
    "s2=Student(\"Bob\", 22)\n",
    "\n",
    "s1.display_info()\n",
    "s2.display_info()"
   ]
  },
  {
   "cell_type": "code",
   "execution_count": null,
   "id": "9ca758f1-c9b5-4a6d-9890-ecb5354ad4fd",
   "metadata": {},
   "outputs": [],
   "source": []
  }
 ],
 "metadata": {
  "kernelspec": {
   "display_name": "Python 3 (ipykernel)",
   "language": "python",
   "name": "python3"
  },
  "language_info": {
   "codemirror_mode": {
    "name": "ipython",
    "version": 3
   },
   "file_extension": ".py",
   "mimetype": "text/x-python",
   "name": "python",
   "nbconvert_exporter": "python",
   "pygments_lexer": "ipython3",
   "version": "3.12.1"
  }
 },
 "nbformat": 4,
 "nbformat_minor": 5
}
