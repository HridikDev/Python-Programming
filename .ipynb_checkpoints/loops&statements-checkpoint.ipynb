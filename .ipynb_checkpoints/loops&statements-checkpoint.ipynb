{
 "cells": [
  {
   "cell_type": "code",
   "execution_count": 2,
   "id": "cf52df9c-bf08-4741-8eaf-8ac11cd5e48d",
   "metadata": {},
   "outputs": [],
   "source": [
    "t=(\"sdfsdfsdf\", 2,3,4)"
   ]
  },
  {
   "cell_type": "code",
   "execution_count": 4,
   "id": "4b054b40-3a02-4632-be64-e3b4c7a75f10",
   "metadata": {},
   "outputs": [
    {
     "data": {
      "text/plain": [
       "tuple"
      ]
     },
     "execution_count": 4,
     "metadata": {},
     "output_type": "execute_result"
    }
   ],
   "source": [
    "type(t)"
   ]
  },
  {
   "cell_type": "code",
   "execution_count": 6,
   "id": "30207238-fb86-4ada-841a-c26ded085b29",
   "metadata": {},
   "outputs": [],
   "source": [
    "t = 'blah', 1, 3 ,4"
   ]
  },
  {
   "cell_type": "code",
   "execution_count": 8,
   "id": "c71120b2-0999-4c34-896a-d479ce04d214",
   "metadata": {},
   "outputs": [
    {
     "data": {
      "text/plain": [
       "tuple"
      ]
     },
     "execution_count": 8,
     "metadata": {},
     "output_type": "execute_result"
    }
   ],
   "source": [
    "type(t)"
   ]
  },
  {
   "cell_type": "code",
   "execution_count": 10,
   "id": "a616e2e5-dff6-4ad6-8f29-80023381a643",
   "metadata": {},
   "outputs": [],
   "source": [
    "t = ((1,2,3), \"hello\", 2,5)"
   ]
  },
  {
   "cell_type": "code",
   "execution_count": 12,
   "id": "1777c7fd-3dfc-46a9-9ad4-b0e802004ad8",
   "metadata": {},
   "outputs": [
    {
     "data": {
      "text/plain": [
       "tuple"
      ]
     },
     "execution_count": 12,
     "metadata": {},
     "output_type": "execute_result"
    }
   ],
   "source": [
    "type(t)"
   ]
  },
  {
   "cell_type": "code",
   "execution_count": 17,
   "id": "dbe04c3d-92d5-4750-b1eb-e2c98ddcd34f",
   "metadata": {},
   "outputs": [
    {
     "name": "stdout",
     "output_type": "stream",
     "text": [
      "(1, 2, 3)\n"
     ]
    }
   ],
   "source": [
    "print(t[0])"
   ]
  },
  {
   "cell_type": "code",
   "execution_count": 6,
   "id": "18d25125-9b4f-45ed-bf41-f4a922fecb29",
   "metadata": {},
   "outputs": [],
   "source": [
    "tl = ([1,2,3],\"one\", \"two\", \"three\")"
   ]
  },
  {
   "cell_type": "code",
   "execution_count": 4,
   "id": "91d98e51-c506-47e3-8257-1d2aba7756fa",
   "metadata": {},
   "outputs": [
    {
     "name": "stdout",
     "output_type": "stream",
     "text": [
      "[1, 2, 3]\n"
     ]
    },
    {
     "data": {
      "text/plain": [
       "list"
      ]
     },
     "execution_count": 4,
     "metadata": {},
     "output_type": "execute_result"
    }
   ],
   "source": [
    "print(tl[0])\n",
    "type(tl[0])"
   ]
  },
  {
   "cell_type": "markdown",
   "id": "f40e2239-0947-4e80-bc0f-beaa18995bc5",
   "metadata": {},
   "source": [
    "Tuple Unpacking"
   ]
  },
  {
   "cell_type": "code",
   "execution_count": 9,
   "id": "abd6adad-446e-4e54-b7b4-b6422aeae626",
   "metadata": {},
   "outputs": [],
   "source": [
    "a, b, c, d= tl"
   ]
  },
  {
   "cell_type": "markdown",
   "id": "5c9776b9-d178-47d3-bfca-04c7bc0ba230",
   "metadata": {},
   "source": [
    "Access values from Tuple"
   ]
  },
  {
   "cell_type": "code",
   "execution_count": 12,
   "id": "79512897-ef85-45da-8d64-53536862d9f0",
   "metadata": {},
   "outputs": [
    {
     "name": "stdout",
     "output_type": "stream",
     "text": [
      "[1, 2, 3]\n"
     ]
    }
   ],
   "source": [
    "print(a)"
   ]
  },
  {
   "cell_type": "code",
   "execution_count": 3,
   "id": "332c3ccc-aceb-45e7-bd05-969497034c2a",
   "metadata": {},
   "outputs": [
    {
     "data": {
      "text/plain": [
       "([1, 2, 3], 'one')"
      ]
     },
     "execution_count": 3,
     "metadata": {},
     "output_type": "execute_result"
    }
   ],
   "source": [
    "tl[-4:-2]"
   ]
  },
  {
   "cell_type": "markdown",
   "id": "71b3cf13-5e44-417d-8f8f-0a473c9efc73",
   "metadata": {},
   "source": [
    "Delete Tuple"
   ]
  },
  {
   "cell_type": "code",
   "execution_count": 7,
   "id": "c059dee3-120b-4d1e-99d2-71cda2a1c609",
   "metadata": {},
   "outputs": [],
   "source": [
    "del tl"
   ]
  },
  {
   "cell_type": "code",
   "execution_count": 9,
   "id": "ff88b9db-c692-4ea3-971a-310ea16d0bae",
   "metadata": {},
   "outputs": [
    {
     "ename": "NameError",
     "evalue": "name 'tl' is not defined",
     "output_type": "error",
     "traceback": [
      "\u001b[1;31m---------------------------------------------------------------------------\u001b[0m",
      "\u001b[1;31mNameError\u001b[0m                                 Traceback (most recent call last)",
      "Cell \u001b[1;32mIn[9], line 1\u001b[0m\n\u001b[1;32m----> 1\u001b[0m \u001b[43mtl\u001b[49m\n",
      "\u001b[1;31mNameError\u001b[0m: name 'tl' is not defined"
     ]
    }
   ],
   "source": [
    "tl"
   ]
  },
  {
   "cell_type": "markdown",
   "id": "8c8fcb89-7bcc-4757-be9a-a52d231fb003",
   "metadata": {},
   "source": [
    "## Sets"
   ]
  },
  {
   "cell_type": "markdown",
   "id": "6d2e70aa-3f98-43ed-9b7b-bbd684b2ec2b",
   "metadata": {},
   "source": [
    "### Creating Sets"
   ]
  },
  {
   "cell_type": "code",
   "execution_count": 12,
   "id": "04c41db8-ce9c-478f-8a03-68ca89b5279e",
   "metadata": {},
   "outputs": [
    {
     "data": {
      "text/plain": [
       "set"
      ]
     },
     "execution_count": 12,
     "metadata": {},
     "output_type": "execute_result"
    }
   ],
   "source": [
    "s= {1,2,3}\n",
    "type(s)"
   ]
  },
  {
   "cell_type": "code",
   "execution_count": 19,
   "id": "44f9c971-fe58-42fe-b1b6-f6ac0a79f9d2",
   "metadata": {},
   "outputs": [],
   "source": [
    "a=1,2,3,4\n",
    "sa = set(a)"
   ]
  },
  {
   "cell_type": "code",
   "execution_count": 21,
   "id": "54bf5cef-4d0a-41c5-be17-3547e5ddd558",
   "metadata": {},
   "outputs": [
    {
     "data": {
      "text/plain": [
       "set"
      ]
     },
     "execution_count": 21,
     "metadata": {},
     "output_type": "execute_result"
    }
   ],
   "source": [
    "type(sa)"
   ]
  },
  {
   "cell_type": "markdown",
   "id": "20675d51-4cac-49c8-9e4e-85be96fc872f",
   "metadata": {},
   "source": [
    "### Converting a List into a Set"
   ]
  },
  {
   "cell_type": "code",
   "execution_count": 22,
   "id": "1325f03c-7b7f-4b0a-9c75-e468f0257e0b",
   "metadata": {},
   "outputs": [
    {
     "data": {
      "text/plain": [
       "set"
      ]
     },
     "execution_count": 22,
     "metadata": {},
     "output_type": "execute_result"
    }
   ],
   "source": [
    "b = set([2,4,6,\"python\"])\n",
    "bl = set(b)\n",
    "type(bl)"
   ]
  },
  {
   "cell_type": "code",
   "execution_count": 24,
   "id": "bbf39dc1-5ed9-460d-a043-be023130326f",
   "metadata": {},
   "outputs": [
    {
     "name": "stdout",
     "output_type": "stream",
     "text": [
      "{'python', 2, 4, 6}\n"
     ]
    }
   ],
   "source": [
    "print(bl)"
   ]
  },
  {
   "cell_type": "markdown",
   "id": "4834a9e5-5b18-4457-890b-3642f41ccec9",
   "metadata": {},
   "source": [
    "### Set is mutable -> add() & update"
   ]
  },
  {
   "cell_type": "code",
   "execution_count": 26,
   "id": "5e102d48-7435-42bc-ab63-869d58e03356",
   "metadata": {},
   "outputs": [],
   "source": [
    "a = {9,19}"
   ]
  },
  {
   "cell_type": "code",
   "execution_count": 28,
   "id": "be605641-0017-4ae5-a665-9d72ea61261a",
   "metadata": {},
   "outputs": [],
   "source": [
    "a.add(29)"
   ]
  },
  {
   "cell_type": "code",
   "execution_count": 30,
   "id": "2a7a6c5d-e174-470f-933f-dbb41be30af3",
   "metadata": {},
   "outputs": [
    {
     "data": {
      "text/plain": [
       "{9, 19, 29}"
      ]
     },
     "execution_count": 30,
     "metadata": {},
     "output_type": "execute_result"
    }
   ],
   "source": [
    "a"
   ]
  },
  {
   "cell_type": "code",
   "execution_count": 35,
   "id": "2bc93ef5-43df-4f13-9cda-5ce656f01101",
   "metadata": {},
   "outputs": [],
   "source": [
    "a.update({34,12,54})"
   ]
  },
  {
   "cell_type": "code",
   "execution_count": 37,
   "id": "5ef968cb-bc02-4587-93f0-8bcf2fc38a85",
   "metadata": {},
   "outputs": [
    {
     "data": {
      "text/plain": [
       "{9, 12, 19, 29, 34, 54}"
      ]
     },
     "execution_count": 37,
     "metadata": {},
     "output_type": "execute_result"
    }
   ],
   "source": [
    "a"
   ]
  },
  {
   "cell_type": "markdown",
   "id": "854a7ddd-c1bf-4f84-b3ed-4e93282578c3",
   "metadata": {},
   "source": [
    "### Remove Items/ Elements from set -> remove(), discard(), pop(), clear()"
   ]
  },
  {
   "cell_type": "code",
   "execution_count": 67,
   "id": "30ece843-3d62-4693-af71-dd592e8d3f8f",
   "metadata": {},
   "outputs": [],
   "source": [
    "c={\"blah\",\"red\", \"blue\", \"green\"}"
   ]
  },
  {
   "cell_type": "code",
   "execution_count": 43,
   "id": "960848ff-dd2d-423a-b5db-5360cfa2dd23",
   "metadata": {},
   "outputs": [],
   "source": [
    "c.remove(\"red\")"
   ]
  },
  {
   "cell_type": "code",
   "execution_count": 45,
   "id": "b51160d0-4b58-4f1f-90f1-a422bc64a67a",
   "metadata": {},
   "outputs": [
    {
     "data": {
      "text/plain": [
       "{'blue', 'green'}"
      ]
     },
     "execution_count": 45,
     "metadata": {},
     "output_type": "execute_result"
    }
   ],
   "source": [
    "c"
   ]
  },
  {
   "cell_type": "code",
   "execution_count": 47,
   "id": "8ba502ed-fdd7-4371-aefc-c343b0ab5c2a",
   "metadata": {},
   "outputs": [],
   "source": [
    "c.discard(\"blue\")"
   ]
  },
  {
   "cell_type": "code",
   "execution_count": 48,
   "id": "8944d5a6-a324-48fc-9087-ee5a59e6c051",
   "metadata": {},
   "outputs": [
    {
     "data": {
      "text/plain": [
       "{'green'}"
      ]
     },
     "execution_count": 48,
     "metadata": {},
     "output_type": "execute_result"
    }
   ],
   "source": [
    "c"
   ]
  },
  {
   "cell_type": "code",
   "execution_count": 68,
   "id": "03791f0a-c915-4ca8-8a02-b5cd9454ff40",
   "metadata": {},
   "outputs": [
    {
     "data": {
      "text/plain": [
       "'green'"
      ]
     },
     "execution_count": 68,
     "metadata": {},
     "output_type": "execute_result"
    }
   ],
   "source": [
    "c.pop()"
   ]
  },
  {
   "cell_type": "code",
   "execution_count": 70,
   "id": "0a7196c0-3ed9-44f2-8385-c07fae037c82",
   "metadata": {},
   "outputs": [],
   "source": [
    "c.clear()"
   ]
  },
  {
   "cell_type": "code",
   "execution_count": 71,
   "id": "3fb736b0-b485-4bc3-b186-a24579602acd",
   "metadata": {},
   "outputs": [
    {
     "data": {
      "text/plain": [
       "set()"
      ]
     },
     "execution_count": 71,
     "metadata": {},
     "output_type": "execute_result"
    }
   ],
   "source": [
    "c"
   ]
  },
  {
   "cell_type": "markdown",
   "id": "835889ee-5b6e-40d3-bcb4-edef848a0a12",
   "metadata": {},
   "source": [
    "### Set union ->union() method or | operator"
   ]
  },
  {
   "cell_type": "code",
   "execution_count": 73,
   "id": "15d9892e-b6d6-4dcc-b7b1-c198880314a3",
   "metadata": {},
   "outputs": [],
   "source": [
    "a={1,2,3,4,5}\n",
    "b={3,4,5,6,7}"
   ]
  },
  {
   "cell_type": "code",
   "execution_count": 74,
   "id": "a2021f6f-8820-41a5-b1ed-abd32c8b4363",
   "metadata": {},
   "outputs": [
    {
     "data": {
      "text/plain": [
       "{1, 2, 3, 4, 5, 6, 7}"
      ]
     },
     "execution_count": 74,
     "metadata": {},
     "output_type": "execute_result"
    }
   ],
   "source": [
    "a|b"
   ]
  },
  {
   "cell_type": "code",
   "execution_count": 76,
   "id": "12b6a18f-48ed-4367-8e93-e2c3a5d82ec5",
   "metadata": {},
   "outputs": [
    {
     "data": {
      "text/plain": [
       "{3, 4, 5}"
      ]
     },
     "execution_count": 76,
     "metadata": {},
     "output_type": "execute_result"
    }
   ],
   "source": [
    "a&b"
   ]
  },
  {
   "cell_type": "code",
   "execution_count": 78,
   "id": "78a82bce-9928-4c67-a380-60144d9c71bd",
   "metadata": {},
   "outputs": [
    {
     "data": {
      "text/plain": [
       "{1, 2, 3, 4, 5, 6, 7}"
      ]
     },
     "execution_count": 78,
     "metadata": {},
     "output_type": "execute_result"
    }
   ],
   "source": [
    "a.union(b)"
   ]
  },
  {
   "cell_type": "markdown",
   "id": "01404d2b-eb5b-42be-ae5a-43480fbc6877",
   "metadata": {},
   "source": [
    "### Set Difference"
   ]
  },
  {
   "cell_type": "code",
   "execution_count": 80,
   "id": "d101fe00-4b4d-44ce-8ae2-9c99ee509356",
   "metadata": {},
   "outputs": [],
   "source": [
    "a={1,2,3,4,5}\n",
    "b={3,4,5,6,7}"
   ]
  },
  {
   "cell_type": "code",
   "execution_count": 82,
   "id": "8a6ab425-f14b-4b54-9645-36f035ca529a",
   "metadata": {},
   "outputs": [
    {
     "data": {
      "text/plain": [
       "{1, 2}"
      ]
     },
     "execution_count": 82,
     "metadata": {},
     "output_type": "execute_result"
    }
   ],
   "source": [
    "a-b"
   ]
  },
  {
   "cell_type": "code",
   "execution_count": 84,
   "id": "caba2859-90bd-4612-ab23-c18aa4c08b45",
   "metadata": {},
   "outputs": [
    {
     "data": {
      "text/plain": [
       "{1, 2}"
      ]
     },
     "execution_count": 84,
     "metadata": {},
     "output_type": "execute_result"
    }
   ],
   "source": [
    "a.difference(b)"
   ]
  },
  {
   "cell_type": "markdown",
   "id": "e0803c13-7248-42a0-8587-e20cfecfd28d",
   "metadata": {},
   "source": [
    "### Set Symmetric Difference"
   ]
  },
  {
   "cell_type": "code",
   "execution_count": 86,
   "id": "b3884c74-7471-4787-96ad-3d227c6fe326",
   "metadata": {},
   "outputs": [
    {
     "name": "stdout",
     "output_type": "stream",
     "text": [
      "{1, 2, 6, 7}\n"
     ]
    }
   ],
   "source": [
    "a={1,2,3,4,5}\n",
    "b={3,4,5,6,7}\n",
    "\n",
    "print(a^b)"
   ]
  },
  {
   "cell_type": "markdown",
   "id": "6ddf13c8-1f64-4d2d-a294-a3633aa06159",
   "metadata": {},
   "source": [
    "### Frozen Set"
   ]
  },
  {
   "cell_type": "code",
   "execution_count": 89,
   "id": "2a9c995c-cce9-49af-bfed-2b78196f5441",
   "metadata": {},
   "outputs": [
    {
     "ename": "AttributeError",
     "evalue": "'frozenset' object has no attribute 'add'",
     "output_type": "error",
     "traceback": [
      "\u001b[1;31m---------------------------------------------------------------------------\u001b[0m",
      "\u001b[1;31mAttributeError\u001b[0m                            Traceback (most recent call last)",
      "Cell \u001b[1;32mIn[89], line 3\u001b[0m\n\u001b[0;32m      1\u001b[0m a\u001b[38;5;241m=\u001b[39m\u001b[38;5;28mfrozenset\u001b[39m({\u001b[38;5;241m1\u001b[39m,\u001b[38;5;241m2\u001b[39m,\u001b[38;5;241m3\u001b[39m,\u001b[38;5;241m4\u001b[39m,\u001b[38;5;241m5\u001b[39m})\n\u001b[1;32m----> 3\u001b[0m \u001b[43ma\u001b[49m\u001b[38;5;241;43m.\u001b[39;49m\u001b[43madd\u001b[49m(\u001b[38;5;241m8\u001b[39m)\n",
      "\u001b[1;31mAttributeError\u001b[0m: 'frozenset' object has no attribute 'add'"
     ]
    }
   ],
   "source": [
    "a=frozenset({1,2,3,4,5})\n",
    "\n",
    "a.add(8)"
   ]
  },
  {
   "cell_type": "markdown",
   "id": "5c61445b-250e-4f05-8a4a-54b837f76f74",
   "metadata": {},
   "source": [
    "### Membership Operators in Sets -> in & not in"
   ]
  },
  {
   "cell_type": "code",
   "execution_count": 91,
   "id": "f716832c-d5a6-447e-b06a-9aae5d9d5c7b",
   "metadata": {},
   "outputs": [],
   "source": [
    "w = {1,2,3,4,5,5}"
   ]
  },
  {
   "cell_type": "code",
   "execution_count": 98,
   "id": "8eff303f-7e00-46f2-8ebe-277c435f4476",
   "metadata": {},
   "outputs": [
    {
     "name": "stdout",
     "output_type": "stream",
     "text": [
      "value is not present\n"
     ]
    }
   ],
   "source": [
    "if 9 not in w:\n",
    "    print(\"value is not present\")\n",
    "else:\n",
    "    print(\"value is present\")"
   ]
  },
  {
   "cell_type": "markdown",
   "id": "2f70fca2-baaf-4bb1-9075-06d49bce8baa",
   "metadata": {},
   "source": [
    "### Build in functions with Set -> len(), min(), max(), sum(), sorted()"
   ]
  },
  {
   "cell_type": "code",
   "execution_count": 100,
   "id": "a303fcb3-546c-4736-957b-77c1eb8ca9e8",
   "metadata": {},
   "outputs": [
    {
     "data": {
      "text/plain": [
       "5"
      ]
     },
     "execution_count": 100,
     "metadata": {},
     "output_type": "execute_result"
    }
   ],
   "source": [
    "a={1,2,3,4,5}\n",
    "\n",
    "len(a)"
   ]
  },
  {
   "cell_type": "code",
   "execution_count": 102,
   "id": "9b78198c-94c6-4726-bc5a-6bbd2c2bac88",
   "metadata": {},
   "outputs": [
    {
     "data": {
      "text/plain": [
       "1"
      ]
     },
     "execution_count": 102,
     "metadata": {},
     "output_type": "execute_result"
    }
   ],
   "source": [
    "min(a)"
   ]
  },
  {
   "cell_type": "code",
   "execution_count": 104,
   "id": "faf4f7a3-a188-45c7-a9a3-816fa2dd1b40",
   "metadata": {},
   "outputs": [
    {
     "data": {
      "text/plain": [
       "5"
      ]
     },
     "execution_count": 104,
     "metadata": {},
     "output_type": "execute_result"
    }
   ],
   "source": [
    "max(a)"
   ]
  },
  {
   "cell_type": "code",
   "execution_count": 106,
   "id": "962e2823-427e-4033-bde1-1f7ef58d5d16",
   "metadata": {},
   "outputs": [
    {
     "data": {
      "text/plain": [
       "15"
      ]
     },
     "execution_count": 106,
     "metadata": {},
     "output_type": "execute_result"
    }
   ],
   "source": [
    "sum(a)"
   ]
  },
  {
   "cell_type": "code",
   "execution_count": 107,
   "id": "5ce58acc-a4e5-44df-90c6-4daf3572e34e",
   "metadata": {},
   "outputs": [
    {
     "data": {
      "text/plain": [
       "[1, 2, 3, 4, 5]"
      ]
     },
     "execution_count": 107,
     "metadata": {},
     "output_type": "execute_result"
    }
   ],
   "source": [
    "sorted(a)"
   ]
  },
  {
   "cell_type": "markdown",
   "id": "4487e29a-e61c-4cef-90d6-f05b0fd93bb9",
   "metadata": {},
   "source": [
    "### Accessing elements in a Set"
   ]
  },
  {
   "cell_type": "code",
   "execution_count": 110,
   "id": "3b2e5b89-0763-4759-aee1-e2819444074c",
   "metadata": {},
   "outputs": [
    {
     "name": "stdout",
     "output_type": "stream",
     "text": [
      "1\n",
      "2\n",
      "3\n",
      "4\n",
      "5\n"
     ]
    }
   ],
   "source": [
    "for i in a:\n",
    "    print(i)"
   ]
  },
  {
   "cell_type": "markdown",
   "id": "1bde886d-f9f1-4185-aa2e-84844560ac7f",
   "metadata": {},
   "source": [
    "### Dictonary"
   ]
  },
  {
   "cell_type": "code",
   "execution_count": 17,
   "id": "cf852dc8",
   "metadata": {},
   "outputs": [],
   "source": [
    "d={\"name\":\"Bob\", \"age\":25,\"job\":\"Dev\",\"city\":\"new york\", \"email\":\"abz@gmail.com\"}"
   ]
  },
  {
   "cell_type": "code",
   "execution_count": 4,
   "id": "1014fae4",
   "metadata": {},
   "outputs": [
    {
     "data": {
      "text/plain": [
       "{'name': 'Bob',\n",
       " 'age': 25,\n",
       " 'job': 'Dev',\n",
       " 'city': 'new york',\n",
       " 'email': 'abz@gmail.com'}"
      ]
     },
     "execution_count": 4,
     "metadata": {},
     "output_type": "execute_result"
    }
   ],
   "source": [
    "d"
   ]
  },
  {
   "cell_type": "markdown",
   "id": "7956663b",
   "metadata": {},
   "source": [
    "### Accessing Dictionary elements - > get()"
   ]
  },
  {
   "cell_type": "code",
   "execution_count": 5,
   "id": "63624483",
   "metadata": {},
   "outputs": [
    {
     "data": {
      "text/plain": [
       "25"
      ]
     },
     "execution_count": 5,
     "metadata": {},
     "output_type": "execute_result"
    }
   ],
   "source": [
    "d.get('age')"
   ]
  },
  {
   "cell_type": "markdown",
   "id": "35c5e504",
   "metadata": {},
   "source": [
    "### Adding and changing Dictionary elements"
   ]
  },
  {
   "cell_type": "code",
   "execution_count": 7,
   "id": "f0ef9dbe",
   "metadata": {},
   "outputs": [],
   "source": [
    "d[\"address\"]=\"N0.10, kalamassery\""
   ]
  },
  {
   "cell_type": "code",
   "execution_count": 9,
   "id": "e211f823",
   "metadata": {},
   "outputs": [
    {
     "data": {
      "text/plain": [
       "{'name': 'Bob',\n",
       " 'age': 25,\n",
       " 'job': 'Dev',\n",
       " 'city': 'new york',\n",
       " 'email': 'abz@gmail.com',\n",
       " 'address': 'N0.10, kalamassery'}"
      ]
     },
     "execution_count": 9,
     "metadata": {},
     "output_type": "execute_result"
    }
   ],
   "source": [
    "d"
   ]
  },
  {
   "cell_type": "code",
   "execution_count": 18,
   "id": "9663c73f",
   "metadata": {},
   "outputs": [],
   "source": [
    "d[\"name\"]=\"John doe\""
   ]
  },
  {
   "cell_type": "code",
   "execution_count": 13,
   "id": "a78551b2",
   "metadata": {},
   "outputs": [
    {
     "data": {
      "text/plain": [
       "{'name': 'John doe',\n",
       " 'age': 25,\n",
       " 'job': 'Dev',\n",
       " 'city': 'new york',\n",
       " 'email': 'abz@gmail.com',\n",
       " 'address': 'N0.10, kalamassery'}"
      ]
     },
     "execution_count": 13,
     "metadata": {},
     "output_type": "execute_result"
    }
   ],
   "source": [
    "d"
   ]
  },
  {
   "cell_type": "markdown",
   "id": "72be637d",
   "metadata": {},
   "source": [
    "### Removing Values -> pop(), popitem()"
   ]
  },
  {
   "cell_type": "code",
   "execution_count": 19,
   "id": "9e166f7d",
   "metadata": {},
   "outputs": [
    {
     "data": {
      "text/plain": [
       "25"
      ]
     },
     "execution_count": 19,
     "metadata": {},
     "output_type": "execute_result"
    }
   ],
   "source": [
    "d.pop(\"age\")"
   ]
  },
  {
   "cell_type": "code",
   "execution_count": 20,
   "id": "5ea422de",
   "metadata": {},
   "outputs": [
    {
     "data": {
      "text/plain": [
       "('email', 'abz@gmail.com')"
      ]
     },
     "execution_count": 20,
     "metadata": {},
     "output_type": "execute_result"
    }
   ],
   "source": [
    "d.popitem()"
   ]
  },
  {
   "cell_type": "markdown",
   "id": "99396fa5",
   "metadata": {},
   "source": [
    "### Delete Dictonary"
   ]
  },
  {
   "cell_type": "code",
   "execution_count": 22,
   "id": "a32785bb",
   "metadata": {},
   "outputs": [],
   "source": [
    "d.clear()"
   ]
  },
  {
   "cell_type": "markdown",
   "id": "598e0e4a-3206-46d4-84a0-af5c0ed824e6",
   "metadata": {},
   "source": [
    "## Conditions"
   ]
  },
  {
   "cell_type": "code",
   "execution_count": 3,
   "id": "0e36fc87-2017-45e4-ad6f-ea2bbafe02f4",
   "metadata": {},
   "outputs": [
    {
     "name": "stdout",
     "output_type": "stream",
     "text": [
      "a is -ve\n"
     ]
    }
   ],
   "source": [
    "a = -10\n",
    "if a>0:\n",
    "    print(\"a is +ve\")\n",
    "else:\n",
    "    print(\"a is -ve\")"
   ]
  },
  {
   "cell_type": "markdown",
   "id": "3b084607-37ea-4791-8770-7ec5a6d8363c",
   "metadata": {},
   "source": [
    "### Short hand if"
   ]
  },
  {
   "cell_type": "code",
   "execution_count": null,
   "id": "41c21a2a-688b-4705-aa38-65d548de3766",
   "metadata": {},
   "outputs": [],
   "source": []
  },
  {
   "cell_type": "markdown",
   "id": "6c633315-c0b1-4f94-8409-596dc54db556",
   "metadata": {},
   "source": [
    "### or"
   ]
  },
  {
   "cell_type": "markdown",
   "id": "e123d69b-b06b-41a5-9cee-f0964c7dc2c3",
   "metadata": {},
   "source": [
    "### Nested if"
   ]
  },
  {
   "cell_type": "code",
   "execution_count": 11,
   "id": "8c60289a-35e1-4be3-89e9-ec7c8e8ac002",
   "metadata": {},
   "outputs": [
    {
     "name": "stdout",
     "output_type": "stream",
     "text": [
      "b is larger\n"
     ]
    }
   ],
   "source": [
    "a = 50\n",
    "b = 75\n",
    "c = 30\n",
    "if a>b:\n",
    "    if a>c:\n",
    "        print(\"a is larger\")\n",
    "    else:\n",
    "        print(\"c is larger\")\n",
    "else :\n",
    "    print(\"b is larger\")\n",
    "    "
   ]
  },
  {
   "cell_type": "markdown",
   "id": "8de34d0e-9909-4980-b71b-ccdee7c70bd6",
   "metadata": {},
   "source": [
    "### Pass statement"
   ]
  },
  {
   "cell_type": "code",
   "execution_count": 7,
   "id": "0f97a59b-c793-439f-8537-7d509652b706",
   "metadata": {},
   "outputs": [],
   "source": [
    "if a>b:\n",
    "    pass"
   ]
  },
  {
   "cell_type": "markdown",
   "id": "781b3a39-485c-4f9e-bde3-186260203808",
   "metadata": {},
   "source": [
    "### While Loop"
   ]
  },
  {
   "cell_type": "code",
   "execution_count": 14,
   "id": "90613876-21b5-4f64-87ed-323695684d10",
   "metadata": {},
   "outputs": [
    {
     "name": "stdout",
     "output_type": "stream",
     "text": [
      "5\n",
      "6\n",
      "7\n",
      "8\n",
      "9\n"
     ]
    }
   ],
   "source": [
    "a = 5\n",
    "while a<10:\n",
    "    print(a)\n",
    "    a+=1\n",
    "\n"
   ]
  },
  {
   "cell_type": "markdown",
   "id": "3925defe-bc04-41e1-9deb-9d192e6a890e",
   "metadata": {},
   "source": [
    "### Break statement"
   ]
  },
  {
   "cell_type": "code",
   "execution_count": 17,
   "id": "bdb283f5-ad0a-4b80-8c5e-85746e06aea3",
   "metadata": {},
   "outputs": [
    {
     "name": "stdout",
     "output_type": "stream",
     "text": [
      "0\n",
      "1\n",
      "2\n",
      "3\n"
     ]
    }
   ],
   "source": [
    "i =0\n",
    "while i<6:\n",
    "    print(i)\n",
    "    if i == 3:\n",
    "        break\n",
    "    i+=1"
   ]
  },
  {
   "cell_type": "markdown",
   "id": "4e6c8af9-dcf1-48bb-919e-5c0069feaef3",
   "metadata": {},
   "source": [
    "### Continue statement"
   ]
  },
  {
   "cell_type": "code",
   "execution_count": 1,
   "id": "96eb2a31-d2ff-465a-bcd2-5ae2bd8f347a",
   "metadata": {},
   "outputs": [
    {
     "name": "stdout",
     "output_type": "stream",
     "text": [
      "0\n",
      "1\n",
      "2\n",
      "4\n",
      "5\n"
     ]
    }
   ],
   "source": [
    "i =0\n",
    "while i<6:\n",
    "    if i == 3:\n",
    "        i+=1\n",
    "        continue\n",
    "    print(i)\n",
    "    i+=1"
   ]
  }
 ],
 "metadata": {
  "kernelspec": {
   "display_name": "Python 3 (ipykernel)",
   "language": "python",
   "name": "python3"
  },
  "language_info": {
   "codemirror_mode": {
    "name": "ipython",
    "version": 3
   },
   "file_extension": ".py",
   "mimetype": "text/x-python",
   "name": "python",
   "nbconvert_exporter": "python",
   "pygments_lexer": "ipython3",
   "version": "3.12.1"
  }
 },
 "nbformat": 4,
 "nbformat_minor": 5
}
