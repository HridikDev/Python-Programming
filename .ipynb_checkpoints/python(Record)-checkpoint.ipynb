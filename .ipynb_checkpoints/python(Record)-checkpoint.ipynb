{
 "cells": [
  {
   "cell_type": "code",
   "execution_count": 4,
   "id": "bfce1bcc-7f72-4d2c-aa55-26e39d0ff7cd",
   "metadata": {},
   "outputs": [
    {
     "name": "stdout",
     "output_type": "stream",
     "text": [
      "---- Calculator ----\n",
      "1. Add\n",
      "2. Subtract\n",
      "3. Multiply\n",
      "4. Divide\n"
     ]
    },
    {
     "name": "stdin",
     "output_type": "stream",
     "text": [
      "Enter your choice (1-4):  1\n",
      "Enter first number:  12\n",
      "Enter second number:  12\n"
     ]
    },
    {
     "name": "stdout",
     "output_type": "stream",
     "text": [
      "Result: 24.0\n"
     ]
    }
   ],
   "source": [
    "class Calculator:\n",
    "    def add(self, a, b):\n",
    "        return a + b\n",
    "\n",
    "    def subtract(self, a, b):\n",
    "        return a - b\n",
    "\n",
    "    def multiply(self, a, b):\n",
    "        return a * b\n",
    "\n",
    "    def divide(self, a, b):\n",
    "        if b == 0:\n",
    "            return \"Division by zero not allowed\"\n",
    "        return a / b\n",
    "\n",
    "\n",
    "if __name__ == \"__main__\":\n",
    "    calc = Calculator()\n",
    "\n",
    "    print(\"---- Calculator ----\")\n",
    "    print(\"1. Add\")\n",
    "    print(\"2. Subtract\")\n",
    "    print(\"3. Multiply\")\n",
    "    print(\"4. Divide\")\n",
    "\n",
    "    choice = int(input(\"Enter your choice (1-4): \"))\n",
    "    a = float(input(\"Enter first number: \"))\n",
    "    b = float(input(\"Enter second number: \"))\n",
    "\n",
    "    # Using match-case (Python 3.10+)\n",
    "    match choice:\n",
    "        case 1:\n",
    "            print(\"Result:\", calc.add(a, b))\n",
    "        case 2:\n",
    "            print(\"Result:\", calc.subtract(a, b))\n",
    "        case 3:\n",
    "            print(\"Result:\", calc.multiply(a, b))\n",
    "        case 4:\n",
    "            print(\"Result:\", calc.divide(a, b))\n",
    "        case _:\n",
    "            print(\"Invalid choice!\")\n"
   ]
  },
  {
   "cell_type": "code",
   "execution_count": 5,
   "id": "37feec88-70ca-461a-8308-8304c0a9cc23",
   "metadata": {},
   "outputs": [
    {
     "name": "stdout",
     "output_type": "stream",
     "text": [
      "---- Electric Car Information ----\n"
     ]
    },
    {
     "name": "stdin",
     "output_type": "stream",
     "text": [
      "Enter Vehicle Brand:  tesla\n",
      "Enter Car Model:  y\n",
      "Enter Battery Capacity (kWh):  100\n"
     ]
    },
    {
     "name": "stdout",
     "output_type": "stream",
     "text": [
      "\n",
      "--- Details ---\n",
      "Vehicle Brand: tesla\n",
      "Car Model: y\n",
      "Battery Capacity: 100 kWh\n"
     ]
    }
   ],
   "source": [
    "class Vehicle:\n",
    "    def __init__(self, brand):\n",
    "        self.brand = brand\n",
    "\n",
    "    def show_info(self):\n",
    "        print(f\"Vehicle Brand: {self.brand}\")\n",
    "\n",
    "\n",
    "class Car(Vehicle):\n",
    "    def __init__(self, brand, model):\n",
    "        super().__init__(brand)\n",
    "        self.model = model\n",
    "\n",
    "    def show_info(self):\n",
    "        super().show_info()\n",
    "        print(f\"Car Model: {self.model}\")\n",
    "\n",
    "\n",
    "class ElectricCar(Car):\n",
    "    def __init__(self, brand, model, battery_capacity):\n",
    "        super().__init__(brand, model)\n",
    "        self.battery_capacity = battery_capacity\n",
    "\n",
    "    def show_info(self):\n",
    "        super().show_info()\n",
    "        print(f\"Battery Capacity: {self.battery_capacity} kWh\")\n",
    "\n",
    "\n",
    "# Demo with user input\n",
    "if __name__ == \"__main__\":\n",
    "    print(\"---- Electric Car Information ----\")\n",
    "    brand = input(\"Enter Vehicle Brand: \")\n",
    "    model = input(\"Enter Car Model: \")\n",
    "    battery = int(input(\"Enter Battery Capacity (kWh): \"))\n",
    "\n",
    "    ecar = ElectricCar(brand, model, battery)\n",
    "    print(\"\\n--- Details ---\")\n",
    "    ecar.show_info()\n"
   ]
  },
  {
   "cell_type": "code",
   "execution_count": 6,
   "id": "64b96a0e-aaf6-49a3-b75f-2dd09d5fb36c",
   "metadata": {},
   "outputs": [
    {
     "name": "stdout",
     "output_type": "stream",
     "text": [
      "---- Shape Area Calculator ----\n",
      "1. Rectangle\n",
      "2. Circle\n"
     ]
    },
    {
     "name": "stdin",
     "output_type": "stream",
     "text": [
      "Choose a shape (1-2):  1\n",
      "Enter length:  12\n",
      "Enter width:  5\n"
     ]
    },
    {
     "name": "stdout",
     "output_type": "stream",
     "text": [
      "Area of Rectangle: 60.0\n"
     ]
    }
   ],
   "source": [
    "import math\n",
    "\n",
    "class Shape:\n",
    "    def area(self):\n",
    "        pass\n",
    "\n",
    "\n",
    "class Rectangle(Shape):\n",
    "    def __init__(self, length, width):\n",
    "        self.length = length\n",
    "        self.width = width\n",
    "\n",
    "    def area(self):\n",
    "        return self.length * self.width\n",
    "\n",
    "\n",
    "class Circle(Shape):\n",
    "    def __init__(self, radius):\n",
    "        self.radius = radius\n",
    "\n",
    "    def area(self):\n",
    "        return math.pi * (self.radius ** 2)\n",
    "\n",
    "\n",
    "if __name__ == \"__main__\":\n",
    "    print(\"---- Shape Area Calculator ----\")\n",
    "    print(\"1. Rectangle\")\n",
    "    print(\"2. Circle\")\n",
    "\n",
    "    choice = int(input(\"Choose a shape (1-2): \"))\n",
    "\n",
    "    match choice:\n",
    "        case 1:\n",
    "            length = float(input(\"Enter length: \"))\n",
    "            width = float(input(\"Enter width: \"))\n",
    "            rect = Rectangle(length, width)\n",
    "            print(\"Area of Rectangle:\", rect.area())\n",
    "        case 2:\n",
    "            radius = float(input(\"Enter radius: \"))\n",
    "            circ = Circle(radius)\n",
    "            print(\"Area of Circle:\", circ.area())\n",
    "        case _:\n",
    "            print(\"Invalid choice!\")\n"
   ]
  },
  {
   "cell_type": "code",
   "execution_count": 8,
   "id": "4b5446df-5397-4d3d-9fd7-2946a0a9a08c",
   "metadata": {},
   "outputs": [
    {
     "name": "stdout",
     "output_type": "stream",
     "text": [
      "---- File Statistics ----\n"
     ]
    },
    {
     "name": "stdin",
     "output_type": "stream",
     "text": [
      "Enter the filename:  sample.txt\n"
     ]
    },
    {
     "name": "stdout",
     "output_type": "stream",
     "text": [
      "\n",
      "--- File Statistics ---\n",
      "Lines: 3\n",
      "Words: 8\n",
      "Characters: 50\n"
     ]
    }
   ],
   "source": [
    "def file_statistics(filename):\n",
    "    try:\n",
    "        with open(filename, \"r\") as f:\n",
    "            text = f.read()\n",
    "        lines = text.split(\"\\n\")\n",
    "        words = text.split()\n",
    "        chars = len(text)\n",
    "\n",
    "        print(\"\\n--- File Statistics ---\")\n",
    "        print(f\"Lines: {len(lines)}\")\n",
    "        print(f\"Words: {len(words)}\")\n",
    "        print(f\"Characters: {chars}\")\n",
    "\n",
    "    except FileNotFoundError:\n",
    "        print(\"Error: File not found!\")\n",
    "\n",
    "\n",
    "if __name__ == \"__main__\":\n",
    "    print(\"---- File Statistics ----\")\n",
    "    filename = input(\"Enter the filename: \")\n",
    "    file_statistics(filename)\n"
   ]
  },
  {
   "cell_type": "code",
   "execution_count": null,
   "id": "9df2c01d-ab3e-462f-9f0a-56dfcb345d7a",
   "metadata": {},
   "outputs": [],
   "source": []
  }
 ],
 "metadata": {
  "kernelspec": {
   "display_name": "Python 3 (ipykernel)",
   "language": "python",
   "name": "python3"
  },
  "language_info": {
   "codemirror_mode": {
    "name": "ipython",
    "version": 3
   },
   "file_extension": ".py",
   "mimetype": "text/x-python",
   "name": "python",
   "nbconvert_exporter": "python",
   "pygments_lexer": "ipython3",
   "version": "3.12.1"
  }
 },
 "nbformat": 4,
 "nbformat_minor": 5
}
