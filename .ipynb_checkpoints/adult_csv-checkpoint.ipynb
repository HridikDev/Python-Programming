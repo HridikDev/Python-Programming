{
 "cells": [
  {
   "cell_type": "markdown",
   "id": "5c682397",
   "metadata": {},
   "source": [
    "# Adult Dataset Analysis (adult.csv)"
   ]
  },
  {
   "cell_type": "code",
   "execution_count": null,
   "id": "57bbb855",
   "metadata": {},
   "outputs": [],
   "source": [
    "\n",
    "import pandas as pd\n",
    "import numpy as np\n",
    "import matplotlib.pyplot as plt\n",
    "import seaborn as sns\n",
    "from sklearn.preprocessing import LabelEncoder\n"
   ]
  },
  {
   "cell_type": "markdown",
   "id": "745054da",
   "metadata": {},
   "source": [
    "## Load Dataset"
   ]
  },
  {
   "cell_type": "code",
   "execution_count": null,
   "id": "7934de64",
   "metadata": {},
   "outputs": [],
   "source": [
    "\n",
    "# Define column names based on UCI Adult dataset description\n",
    "columns = [\"age\", \"workclass\", \"fnlwgt\", \"education\", \"education_num\",\n",
    "           \"marital_status\", \"occupation\", \"relationship\", \"race\", \"sex\",\n",
    "           \"capital_gain\", \"capital_loss\", \"hours_per_week\", \"native_country\", \"income\"]\n",
    "\n",
    "# Load adult.csv\n",
    "adult = pd.read_csv(\"/mnt/data/5e3dbb41-f3f4-4edd-8d67-ed46aee26ec8.csv\",\n",
    "                    header=None, names=columns, na_values=\"?\", skipinitialspace=True)\n",
    "\n",
    "adult.head()\n"
   ]
  },
  {
   "cell_type": "markdown",
   "id": "49ef03e5",
   "metadata": {},
   "source": [
    "## Data Exploration"
   ]
  },
  {
   "cell_type": "code",
   "execution_count": null,
   "id": "3e18888b",
   "metadata": {},
   "outputs": [],
   "source": [
    "adult.info()"
   ]
  },
  {
   "cell_type": "code",
   "execution_count": null,
   "id": "5cebf97e",
   "metadata": {},
   "outputs": [],
   "source": [
    "adult.describe(include='all')"
   ]
  },
  {
   "cell_type": "code",
   "execution_count": null,
   "id": "a307ac7c",
   "metadata": {},
   "outputs": [],
   "source": [
    "adult.isnull().sum()"
   ]
  },
  {
   "cell_type": "markdown",
   "id": "00c6692f",
   "metadata": {},
   "source": [
    "## Data Preprocessing"
   ]
  },
  {
   "cell_type": "code",
   "execution_count": null,
   "id": "913b41b9",
   "metadata": {},
   "outputs": [],
   "source": [
    "\n",
    "# Drop rows with missing values\n",
    "adult.dropna(inplace=True)\n",
    "\n",
    "# Encode categorical variables\n",
    "le = LabelEncoder()\n",
    "for col in adult.select_dtypes(include=\"object\"):\n",
    "    adult[col] = le.fit_transform(adult[col])\n",
    "\n",
    "adult.head()\n"
   ]
  },
  {
   "cell_type": "markdown",
   "id": "cd7e9c42",
   "metadata": {},
   "source": [
    "## Data Visualization"
   ]
  },
  {
   "cell_type": "code",
   "execution_count": null,
   "id": "fe3f0558",
   "metadata": {},
   "outputs": [],
   "source": [
    "\n",
    "# Income distribution\n",
    "sns.countplot(x=\"income\", data=adult)\n",
    "plt.title(\"Income Distribution\")\n",
    "plt.show()\n"
   ]
  },
  {
   "cell_type": "code",
   "execution_count": null,
   "id": "b09c123e",
   "metadata": {},
   "outputs": [],
   "source": [
    "\n",
    "# Correlation heatmap\n",
    "plt.figure(figsize=(12,6))\n",
    "sns.heatmap(adult.corr(numeric_only=True), annot=True, cmap=\"coolwarm\")\n",
    "plt.title(\"Correlation Heatmap\")\n",
    "plt.show()\n"
   ]
  }
 ],
 "metadata": {},
 "nbformat": 4,
 "nbformat_minor": 5
}