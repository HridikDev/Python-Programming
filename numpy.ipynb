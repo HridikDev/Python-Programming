{
 "cells": [
  {
   "cell_type": "code",
   "execution_count": null,
   "id": "23774a7b-9f1b-4e5d-bfdc-92f1764eaf56",
   "metadata": {},
   "outputs": [],
   "source": [
    "!pip3 install numpy"
   ]
  },
  {
   "cell_type": "code",
   "execution_count": 1,
   "id": "ef296405-3746-4500-9359-3e99fe34baee",
   "metadata": {},
   "outputs": [
    {
     "name": "stdout",
     "output_type": "stream",
     "text": [
      "[1 2 3 4 5]\n"
     ]
    }
   ],
   "source": [
    "import numpy\n",
    "\n",
    "a=numpy.array([1,2,3,4,5])\n",
    "\n",
    "print(a)"
   ]
  },
  {
   "cell_type": "code",
   "execution_count": 2,
   "id": "48c73268-532d-4a8f-b255-31dd50a70c46",
   "metadata": {},
   "outputs": [
    {
     "name": "stdout",
     "output_type": "stream",
     "text": [
      "[1 2 3 4 5]\n"
     ]
    }
   ],
   "source": [
    "import numpy as np\n",
    "\n",
    "a=np.array([1,2,3,4,5])\n",
    "\n",
    "print(a)"
   ]
  },
  {
   "cell_type": "code",
   "execution_count": 3,
   "id": "482213f5-e0d7-4900-9466-5a7a6c1a4b2c",
   "metadata": {},
   "outputs": [
    {
     "data": {
      "text/plain": [
       "numpy.ndarray"
      ]
     },
     "execution_count": 3,
     "metadata": {},
     "output_type": "execute_result"
    }
   ],
   "source": [
    "type(a)"
   ]
  },
  {
   "cell_type": "code",
   "execution_count": 5,
   "id": "587099b6-0e57-4cb8-9bf0-2c756e1546de",
   "metadata": {},
   "outputs": [],
   "source": [
    "import numpy as np\n",
    "\n",
    "a=np.array(92)\n",
    "b=np.array([1,2,3,4,5])\n",
    "c=np.array([[1,2,3],[4,5,6]])\n",
    "x=np.array([[1,2,3],[4,5,6],[7,8,9]])"
   ]
  },
  {
   "cell_type": "code",
   "execution_count": 6,
   "id": "f880deb3-155f-4b62-8257-14140cb7d8e0",
   "metadata": {},
   "outputs": [
    {
     "name": "stdout",
     "output_type": "stream",
     "text": [
      "92\n",
      "Dimension = 0\n"
     ]
    }
   ],
   "source": [
    "print(a)\n",
    "\n",
    "print(\"Dimension =\",a.ndim)"
   ]
  },
  {
   "cell_type": "code",
   "execution_count": 10,
   "id": "8f32c371-dacd-498f-9f9b-13742441b239",
   "metadata": {},
   "outputs": [
    {
     "name": "stdout",
     "output_type": "stream",
     "text": [
      "[1 2 3 4 5]\n",
      "Dimension = 1\n"
     ]
    }
   ],
   "source": [
    "print(b)\n",
    "\n",
    "print(\"Dimension =\",b.ndim)"
   ]
  },
  {
   "cell_type": "code",
   "execution_count": 11,
   "id": "deca34ce-ef6f-45bf-b57e-71f16ebb05e7",
   "metadata": {},
   "outputs": [
    {
     "name": "stdout",
     "output_type": "stream",
     "text": [
      "[[1 2 3]\n",
      " [4 5 6]]\n",
      "Dimension = 2\n"
     ]
    }
   ],
   "source": [
    "print(c)\n",
    "\n",
    "print(\"Dimension =\",c.ndim)"
   ]
  },
  {
   "cell_type": "code",
   "execution_count": 12,
   "id": "93073c16-0fb4-4e56-b062-e9113f35424b",
   "metadata": {},
   "outputs": [
    {
     "name": "stdout",
     "output_type": "stream",
     "text": [
      "[[1 2 3]\n",
      " [4 5 6]\n",
      " [7 8 9]]\n",
      "Dimension = 2\n"
     ]
    }
   ],
   "source": [
    "print(x)\n",
    "\n",
    "print(\"Dimension =\",x.ndim)"
   ]
  },
  {
   "cell_type": "markdown",
   "id": "ee5fd553-7f4c-4718-b32d-3e52e441f93e",
   "metadata": {},
   "source": [
    "dtype parameter"
   ]
  },
  {
   "cell_type": "code",
   "execution_count": 13,
   "id": "6db546d7-e56d-4ac8-bae6-5854ab14944c",
   "metadata": {},
   "outputs": [
    {
     "name": "stdout",
     "output_type": "stream",
     "text": [
      "[1. 2. 3.]\n"
     ]
    }
   ],
   "source": [
    "import numpy as np\n",
    "\n",
    "a= np.array([1,2,3],dtype=float) #float,str\n",
    "\n",
    "print(a)"
   ]
  },
  {
   "cell_type": "markdown",
   "id": "b4604baa-f55d-43e0-897f-dcb53e002c75",
   "metadata": {},
   "source": [
    "how to access it"
   ]
  },
  {
   "cell_type": "code",
   "execution_count": null,
   "id": "01ef9698-56f5-4c93-a998-1b1b4b2eeb57",
   "metadata": {},
   "outputs": [],
   "source": []
  },
  {
   "cell_type": "markdown",
   "id": "a6646fbf-cb7d-4917-bc2f-1be82f778418",
   "metadata": {},
   "source": [
    "index array"
   ]
  },
  {
   "cell_type": "code",
   "execution_count": 14,
   "id": "238f4dae-3a9c-4480-89f0-49fe45b6422f",
   "metadata": {},
   "outputs": [
    {
     "name": "stdout",
     "output_type": "stream",
     "text": [
      "[ 11  12  13  14  15  60  70  80  90 100]\n"
     ]
    }
   ],
   "source": [
    "import numpy as np\n",
    "\n",
    "x=np.array([11,12,13,14,15,60,70,80,90,100])\n",
    "print(x)"
   ]
  },
  {
   "cell_type": "code",
   "execution_count": 15,
   "id": "84567660-6271-4a19-9bfe-54205ae35669",
   "metadata": {},
   "outputs": [
    {
     "name": "stdout",
     "output_type": "stream",
     "text": [
      "[14 14 12 90]\n"
     ]
    }
   ],
   "source": [
    "z=x[np.array([3,3,1,8])] #location values\n",
    "print(z)"
   ]
  },
  {
   "cell_type": "code",
   "execution_count": 17,
   "id": "0395600c-fe30-40ea-a585-5cb2922943de",
   "metadata": {},
   "outputs": [
    {
     "data": {
      "text/plain": [
       "matrix([[ 1,  2,  3,  4,  5],\n",
       "        [ 5,  6,  7,  8,  9],\n",
       "        [ 2, 45, 32, 78, 65],\n",
       "        [ 3,  6,  8,  9,  2],\n",
       "        [66, 99, 88, 33, 22]])"
      ]
     },
     "execution_count": 17,
     "metadata": {},
     "output_type": "execute_result"
    }
   ],
   "source": [
    "d=[1,2,3,4,5]\n",
    "e=[5,6,7,8,9]\n",
    "f=[2,45,32,78,65]\n",
    "g=[3,6,8,9,2]\n",
    "h=[66,99,88,33,22]\n",
    "\n",
    "my_matrice=np.matrix([d,e,f,g,h])\n",
    "my_matrice"
   ]
  },
  {
   "cell_type": "code",
   "execution_count": 18,
   "id": "de201e6b-96ea-486e-ba69-8d7ea21aaec7",
   "metadata": {},
   "outputs": [
    {
     "data": {
      "text/plain": [
       "matrix([[ 7,  8,  9],\n",
       "        [32, 78, 65],\n",
       "        [ 8,  9,  2]])"
      ]
     },
     "execution_count": 18,
     "metadata": {},
     "output_type": "execute_result"
    }
   ],
   "source": [
    "my_matrice[1:4,2:5]"
   ]
  },
  {
   "cell_type": "code",
   "execution_count": 19,
   "id": "24f38e70-7842-41e4-97d1-e0ab64208225",
   "metadata": {},
   "outputs": [
    {
     "name": "stdout",
     "output_type": "stream",
     "text": [
      "list = [[1, 2, 3], [4, 5, 6], [7, 8, 9]]\n",
      "numpy_array =\n",
      " [[1 2 3]\n",
      " [4 5 6]\n",
      " [7 8 9]]\n"
     ]
    }
   ],
   "source": [
    "li = [[1,2,3],[4,5,6],[7,8,9]] #list\n",
    "ar=np.array(li) #numpy\n",
    "\n",
    "print(\"list =\",li)\n",
    "\n",
    "print(\"numpy_array =\"+\"\\n\",ar)"
   ]
  },
  {
   "cell_type": "code",
   "execution_count": 20,
   "id": "c9d1b638-8cf7-4aaf-833a-1b81cf43d1a2",
   "metadata": {},
   "outputs": [
    {
     "data": {
      "text/plain": [
       "list"
      ]
     },
     "execution_count": 20,
     "metadata": {},
     "output_type": "execute_result"
    }
   ],
   "source": [
    "type(li)"
   ]
  },
  {
   "cell_type": "code",
   "execution_count": 21,
   "id": "f7642e75-dcc4-4695-8dc0-df5b5f284cbf",
   "metadata": {},
   "outputs": [
    {
     "data": {
      "text/plain": [
       "numpy.ndarray"
      ]
     },
     "execution_count": 21,
     "metadata": {},
     "output_type": "execute_result"
    }
   ],
   "source": [
    "type(ar)"
   ]
  },
  {
   "cell_type": "code",
   "execution_count": 22,
   "id": "5d9d57f3-8a18-4229-a865-5dea527a5603",
   "metadata": {},
   "outputs": [
    {
     "data": {
      "text/plain": [
       "[[1, 2, 3], [4, 5, 6], [7, 8, 9], [1, 2, 3], [4, 5, 6], [7, 8, 9]]"
      ]
     },
     "execution_count": 22,
     "metadata": {},
     "output_type": "execute_result"
    }
   ],
   "source": [
    "li+li"
   ]
  },
  {
   "cell_type": "code",
   "execution_count": 23,
   "id": "b23fd5e1-c416-42f3-9039-31c4d89c0b7d",
   "metadata": {},
   "outputs": [
    {
     "data": {
      "text/plain": [
       "array([[ 2,  4,  6],\n",
       "       [ 8, 10, 12],\n",
       "       [14, 16, 18]])"
      ]
     },
     "execution_count": 23,
     "metadata": {},
     "output_type": "execute_result"
    }
   ],
   "source": [
    "ar+ar"
   ]
  },
  {
   "cell_type": "code",
   "execution_count": 24,
   "id": "dacc8a56-1b9e-4501-b8d8-c53a87ded73c",
   "metadata": {},
   "outputs": [
    {
     "name": "stdout",
     "output_type": "stream",
     "text": [
      "[3 4 5 6 8]\n"
     ]
    }
   ],
   "source": [
    "import numpy as np\n",
    "\n",
    "k=np.array([3,4,5,6,8])\n",
    "print(k)"
   ]
  },
  {
   "cell_type": "code",
   "execution_count": 26,
   "id": "79866962-61c8-48d6-89ce-bbb490035639",
   "metadata": {
    "collapsed": true,
    "jupyter": {
     "outputs_hidden": true
    }
   },
   "outputs": [
    {
     "name": "stdout",
     "output_type": "stream",
     "text": [
      "modified array = [ 3  4 90  6  8]\n"
     ]
    }
   ],
   "source": [
    "copy1_=k.copy() #Making copy of original array\n",
    "\n",
    "view1_=k.view() #Making view of original array\n",
    "\n",
    "k[2]=90 #updating the original array\n",
    "\n",
    "print(\"modified array =\",view1_)"
   ]
  },
  {
   "cell_type": "code",
   "execution_count": 27,
   "id": "5f3885de-dcc9-4197-9c33-b41bb520a1bd",
   "metadata": {},
   "outputs": [
    {
     "name": "stdout",
     "output_type": "stream",
     "text": [
      "copied array = [3 4 5 6 8]\n",
      "viewes array = [ 3  4 90  6  8]\n"
     ]
    }
   ],
   "source": [
    "print(\"copied array =\",copy1_)\n",
    "\n",
    "print(\"viewes array =\",view1_)"
   ]
  },
  {
   "cell_type": "code",
   "execution_count": 28,
   "id": "3ee2d489-d94a-488c-881f-24bad4d80c4e",
   "metadata": {},
   "outputs": [
    {
     "name": "stdout",
     "output_type": "stream",
     "text": [
      "[ 1  2  3  4  5  6  7  8  9 10 11 12]\n"
     ]
    }
   ],
   "source": [
    "import numpy as np\n",
    "\n",
    "arr=np.array([1,2,3,4,5,6,7,8,9,10,11,12])\n",
    "print(arr)"
   ]
  },
  {
   "cell_type": "code",
   "execution_count": 29,
   "id": "4af47ad4-a290-42fe-bf5d-e2bbd3c14105",
   "metadata": {},
   "outputs": [
    {
     "name": "stdout",
     "output_type": "stream",
     "text": [
      "(12,)\n"
     ]
    }
   ],
   "source": [
    "print(arr.shape)"
   ]
  },
  {
   "cell_type": "code",
   "execution_count": 31,
   "id": "4134bbaa-35e6-496c-b555-6ffda67e9775",
   "metadata": {},
   "outputs": [
    {
     "name": "stdout",
     "output_type": "stream",
     "text": [
      "[[ 1  2  3  4]\n",
      " [ 5  6  7  8]\n",
      " [ 9 10 11 12]]\n",
      "(3, 4)\n"
     ]
    }
   ],
   "source": [
    "newarr = arr.reshape(3,4)\n",
    "print(newarr)\n",
    "print(newarr.shape)"
   ]
  },
  {
   "cell_type": "code",
   "execution_count": 33,
   "id": "3090d359-740a-4283-9fbc-67caca007054",
   "metadata": {},
   "outputs": [
    {
     "data": {
      "text/plain": [
       "array([0, 1, 2, 3, 4, 5, 6, 7, 8, 9])"
      ]
     },
     "execution_count": 33,
     "metadata": {},
     "output_type": "execute_result"
    }
   ],
   "source": [
    "import numpy as np\n",
    "np.arange(10)"
   ]
  },
  {
   "cell_type": "code",
   "execution_count": 34,
   "id": "1978b764-ad67-474d-b184-5682575c2ac0",
   "metadata": {},
   "outputs": [
    {
     "data": {
      "text/plain": [
       "array([5, 6, 7, 8, 9])"
      ]
     },
     "execution_count": 34,
     "metadata": {},
     "output_type": "execute_result"
    }
   ],
   "source": [
    "np.arange(5,10)"
   ]
  },
  {
   "cell_type": "code",
   "execution_count": 35,
   "id": "b0bf34d4-489b-41bb-987d-425bcf111951",
   "metadata": {},
   "outputs": [
    {
     "name": "stdout",
     "output_type": "stream",
     "text": [
      "[1. 2. 3.]\n"
     ]
    }
   ],
   "source": [
    "np.arange(5,10)\n",
    "print(a)"
   ]
  },
  {
   "cell_type": "code",
   "execution_count": 36,
   "id": "76517f42-81ef-42e2-b755-1d1bee55385e",
   "metadata": {},
   "outputs": [
    {
     "data": {
      "text/plain": [
       "array([5, 7, 9])"
      ]
     },
     "execution_count": 36,
     "metadata": {},
     "output_type": "execute_result"
    }
   ],
   "source": [
    "np.arange(5,10,2)"
   ]
  },
  {
   "cell_type": "code",
   "execution_count": 37,
   "id": "18575e72-9e37-413d-b355-5825156965fe",
   "metadata": {},
   "outputs": [
    {
     "data": {
      "text/plain": [
       "array([10., 12., 14., 16., 18., 20., 22., 24., 26., 28.])"
      ]
     },
     "execution_count": 37,
     "metadata": {},
     "output_type": "execute_result"
    }
   ],
   "source": [
    "np.arange(10,30,2,float)"
   ]
  },
  {
   "cell_type": "code",
   "execution_count": 38,
   "id": "84f9c5df-a6bd-4973-9d44-b06391ed69b5",
   "metadata": {},
   "outputs": [],
   "source": [
    "#Reshaping the created array\n"
   ]
  },
  {
   "cell_type": "code",
   "execution_count": 39,
   "id": "207fe085-c152-4c10-89e8-2d504f4f8b41",
   "metadata": {},
   "outputs": [
    {
     "name": "stdout",
     "output_type": "stream",
     "text": [
      "[0.  2.5 5. ]\n"
     ]
    }
   ],
   "source": [
    "x = np.linspace(0,5,3)\n",
    "print(x)"
   ]
  },
  {
   "cell_type": "code",
   "execution_count": 41,
   "id": "f2b27782-2bc5-4cf9-a26f-f233521b54a7",
   "metadata": {},
   "outputs": [
    {
     "name": "stdout",
     "output_type": "stream",
     "text": [
      "[ 0.  4.  8. 12. 16.]\n"
     ]
    }
   ],
   "source": [
    "y = np.linspace(0,16,5)\n",
    "print(y)"
   ]
  },
  {
   "cell_type": "markdown",
   "id": "4a9c5a76-73b7-4843-8ad3-28b514cdd343",
   "metadata": {},
   "source": [
    "max\\min"
   ]
  },
  {
   "cell_type": "code",
   "execution_count": 1,
   "id": "5a4161fc-9de7-4ef4-b1fb-541926c29779",
   "metadata": {},
   "outputs": [
    {
     "ename": "NameError",
     "evalue": "name 'np' is not defined",
     "output_type": "error",
     "traceback": [
      "\u001b[31m---------------------------------------------------------------------------\u001b[39m",
      "\u001b[31mNameError\u001b[39m                                 Traceback (most recent call last)",
      "\u001b[36mCell\u001b[39m\u001b[36m \u001b[39m\u001b[32mIn[1]\u001b[39m\u001b[32m, line 1\u001b[39m\n\u001b[32m----> \u001b[39m\u001b[32m1\u001b[39m a= \u001b[43mnp\u001b[49m.array([(\u001b[32m1\u001b[39m,\u001b[32m2\u001b[39m,\u001b[32m3\u001b[39m),(\u001b[32m3\u001b[39m,\u001b[32m4\u001b[39m,\u001b[32m5\u001b[39m)])\n\u001b[32m      2\u001b[39m \u001b[38;5;66;03m#not complete\u001b[39;00m\n",
      "\u001b[31mNameError\u001b[39m: name 'np' is not defined"
     ]
    }
   ],
   "source": [
    "a= np.array([(1,2,3),(3,4,5)])\n",
    "#not complete"
   ]
  },
  {
   "cell_type": "markdown",
   "id": "f4fc8412-242f-4608-b767-4b40ac31075b",
   "metadata": {},
   "source": [
    "row of column,sum and mean"
   ]
  },
  {
   "cell_type": "code",
   "execution_count": 3,
   "id": "9dca7d83-a944-419a-bb0f-6a17af1e4af2",
   "metadata": {},
   "outputs": [
    {
     "name": "stdout",
     "output_type": "stream",
     "text": [
      "[[1 2 3]\n",
      " [4 5 6]\n",
      " [7 8 9]]\n"
     ]
    }
   ],
   "source": [
    "import numpy as np\n",
    "x = np.array([[1,2,3],[4,5,6],[7,8,9]])\n",
    "print(x)"
   ]
  },
  {
   "cell_type": "code",
   "execution_count": 4,
   "id": "92239cc5-30fa-4f25-99c6-0806e2381baa",
   "metadata": {},
   "outputs": [
    {
     "data": {
      "text/plain": [
       "45"
      ]
     },
     "execution_count": 4,
     "metadata": {},
     "output_type": "execute_result"
    }
   ],
   "source": [
    "x.sum()"
   ]
  },
  {
   "cell_type": "code",
   "execution_count": 5,
   "id": "063204cb-41c3-4c2d-aaab-3df980c89330",
   "metadata": {},
   "outputs": [
    {
     "data": {
      "text/plain": [
       "array([12, 15, 18])"
      ]
     },
     "execution_count": 5,
     "metadata": {},
     "output_type": "execute_result"
    }
   ],
   "source": [
    "x.sum(axis=0) #column sum"
   ]
  },
  {
   "cell_type": "code",
   "execution_count": 6,
   "id": "629e74c9-5ffb-496f-aff7-4ab56e517756",
   "metadata": {},
   "outputs": [
    {
     "data": {
      "text/plain": [
       "array([ 6, 15, 24])"
      ]
     },
     "execution_count": 6,
     "metadata": {},
     "output_type": "execute_result"
    }
   ],
   "source": [
    "x.sum(axis=1) #row sum"
   ]
  },
  {
   "cell_type": "code",
   "execution_count": 7,
   "id": "bd6913b4-0ec7-4dd4-8c5c-4e4a5e9be3df",
   "metadata": {},
   "outputs": [
    {
     "data": {
      "text/plain": [
       "array([4., 5., 6.])"
      ]
     },
     "execution_count": 7,
     "metadata": {},
     "output_type": "execute_result"
    }
   ],
   "source": [
    "x.mean(axis=0) #column mean"
   ]
  },
  {
   "cell_type": "markdown",
   "id": "ed788cd0-d72f-494b-9b40-033c921de970",
   "metadata": {},
   "source": [
    "zeroes, ones and empty"
   ]
  },
  {
   "cell_type": "code",
   "execution_count": 9,
   "id": "98c4e8bd-1812-4506-aaf8-123cae2f9074",
   "metadata": {},
   "outputs": [
    {
     "name": "stdout",
     "output_type": "stream",
     "text": [
      "[[0. 0. 0. 0. 0.]\n",
      " [0. 0. 0. 0. 0.]\n",
      " [0. 0. 0. 0. 0.]]\n"
     ]
    }
   ],
   "source": [
    "a = np.zeros((3,5),dtype=float)\n",
    "print(a)"
   ]
  },
  {
   "cell_type": "code",
   "execution_count": 10,
   "id": "4e896383-40d7-4379-9263-8716b09c4691",
   "metadata": {},
   "outputs": [
    {
     "data": {
      "text/plain": [
       "array([[1, 1, 1, 1, 1],\n",
       "       [1, 1, 1, 1, 1],\n",
       "       [1, 1, 1, 1, 1]])"
      ]
     },
     "execution_count": 10,
     "metadata": {},
     "output_type": "execute_result"
    }
   ],
   "source": [
    "np.ones((3,5),dtype=int)"
   ]
  },
  {
   "cell_type": "code",
   "execution_count": 11,
   "id": "10d4c3ac-2b40-45fa-aff6-66e350f6dfe6",
   "metadata": {},
   "outputs": [
    {
     "name": "stdout",
     "output_type": "stream",
     "text": [
      "[[         0 1074790400]\n",
      " [         0 1075052544]\n",
      " [         0 1075314688]]\n"
     ]
    }
   ],
   "source": [
    "x=np.empty([3,2],dtype=int)\n",
    "print(x) #the elements is in an array shows random values..."
   ]
  },
  {
   "cell_type": "markdown",
   "id": "a49aba60-55c0-44fc-812a-35134e341165",
   "metadata": {},
   "source": [
    "numpy.asarray"
   ]
  },
  {
   "cell_type": "markdown",
   "id": "a717e47b-64ae-49f8-a622-605991f5c0ec",
   "metadata": {},
   "source": [
    "list to numpy"
   ]
  },
  {
   "cell_type": "code",
   "execution_count": 15,
   "id": "0ec8d5d8-f783-4908-862f-e10600bf67ac",
   "metadata": {},
   "outputs": [
    {
     "name": "stdout",
     "output_type": "stream",
     "text": [
      "[1, 2, 3] <class 'list'>\n"
     ]
    }
   ],
   "source": [
    "import numpy as np\n",
    "\n",
    "x= [1,2,3] #list\n",
    "\n",
    "print(x,type(x))"
   ]
  },
  {
   "cell_type": "code",
   "execution_count": 13,
   "id": "cf3500d5-e559-4fcd-bcc3-eff587fdee4c",
   "metadata": {},
   "outputs": [
    {
     "name": "stdout",
     "output_type": "stream",
     "text": [
      "[1 2 3] <class 'numpy.ndarray'>\n"
     ]
    }
   ],
   "source": [
    "a= np.asarray(x) #int\n",
    "print(a,type(a))"
   ]
  },
  {
   "cell_type": "code",
   "execution_count": 14,
   "id": "8775a261-ec1d-430f-845a-a8c18ff2f729",
   "metadata": {},
   "outputs": [
    {
     "name": "stdout",
     "output_type": "stream",
     "text": [
      "[1. 2. 3.] <class 'numpy.ndarray'>\n"
     ]
    }
   ],
   "source": [
    "a=np.asarray(x,dtype=float)\n",
    "print(a,type(a))"
   ]
  },
  {
   "cell_type": "markdown",
   "id": "0f5b02a0-1ada-4da2-ac74-d0927dac5327",
   "metadata": {},
   "source": [
    "how can we join two arrays?"
   ]
  },
  {
   "cell_type": "code",
   "execution_count": 17,
   "id": "8bbb8945-3e92-43ae-ac2a-ff6064b06b60",
   "metadata": {},
   "outputs": [
    {
     "name": "stdout",
     "output_type": "stream",
     "text": [
      "[1 2 3 4 5 6]\n"
     ]
    }
   ],
   "source": [
    "import numpy as np\n",
    "\n",
    "arr1=np.array([1,2,3])\n",
    "arr2=np.array([4,5,6])\n",
    "arr=np.concatenate((arr1,arr2))\n",
    "print(arr)"
   ]
  },
  {
   "cell_type": "markdown",
   "id": "5fc3ea7d-4e6f-4a76-98a5-00eff5902258",
   "metadata": {},
   "source": [
    "hstack vs vstack"
   ]
  },
  {
   "cell_type": "code",
   "execution_count": 22,
   "id": "06589e22-4659-4b65-97a0-cf49fcb10fe8",
   "metadata": {},
   "outputs": [],
   "source": [
    "a=np.array([21,32,45])\n",
    "b=np.array([98,23,34])"
   ]
  },
  {
   "cell_type": "code",
   "execution_count": 23,
   "id": "fef58c3b-1ec7-46b3-a8ea-b7b217169dbd",
   "metadata": {},
   "outputs": [],
   "source": [
    "s=np.hstack((a,b))"
   ]
  },
  {
   "cell_type": "raw",
   "id": "772b9d9d-e7a8-47bf-98ff-1c1f27a19b33",
   "metadata": {},
   "source": [
    "print(s)"
   ]
  },
  {
   "cell_type": "code",
   "execution_count": 24,
   "id": "ad0a4047-9fd7-479f-a895-5a991dc13034",
   "metadata": {},
   "outputs": [
    {
     "name": "stdout",
     "output_type": "stream",
     "text": [
      "[array([1, 2]), array([3, 4]), array([5, 6])]\n"
     ]
    }
   ],
   "source": [
    "import numpy as np\n",
    "arr=np.array([1,2,3,4,5,6])\n",
    "newarr=np.array_split(arr,3)\n",
    "print(newarr)"
   ]
  },
  {
   "cell_type": "code",
   "execution_count": 25,
   "id": "a80f642e-ef24-4074-8f8e-13b0d5de54bc",
   "metadata": {},
   "outputs": [
    {
     "name": "stdout",
     "output_type": "stream",
     "text": [
      "(array([4], dtype=int64),)\n"
     ]
    }
   ],
   "source": [
    "import numpy as np\n",
    "arr=np.array([1,2,3,4,5,4,4])\n",
    "x=np.where(arr==5)\n",
    "print(x)"
   ]
  },
  {
   "cell_type": "code",
   "execution_count": 26,
   "id": "5a879048-cb7d-4e2b-92e2-32a9db556343",
   "metadata": {},
   "outputs": [
    {
     "name": "stdout",
     "output_type": "stream",
     "text": [
      "[0 1 2 3 4 5 6 7 8 9]\n"
     ]
    }
   ],
   "source": [
    "a=np.arange(10)\n",
    "print(a)"
   ]
  },
  {
   "cell_type": "code",
   "execution_count": 28,
   "id": "cd9aeeb1-2f88-4563-961b-115d3f117274",
   "metadata": {},
   "outputs": [
    {
     "data": {
      "text/plain": [
       "array([ 0,  1,  2,  3,  4, 50, 60, 70, 80, 90])"
      ]
     },
     "execution_count": 28,
     "metadata": {},
     "output_type": "execute_result"
    }
   ],
   "source": [
    "np.where(a<5,a,10*a) #values of a < 5 will be printed"
   ]
  },
  {
   "cell_type": "code",
   "execution_count": 29,
   "id": "ef56cf4d-0ade-4c4f-b736-d47d05149af8",
   "metadata": {},
   "outputs": [
    {
     "name": "stdout",
     "output_type": "stream",
     "text": [
      "[0 1 2 3]\n"
     ]
    }
   ],
   "source": [
    "import numpy as np\n",
    "arr=np.array([3,2,0,1])\n",
    "print(np.sort(arr))"
   ]
  },
  {
   "cell_type": "code",
   "execution_count": 30,
   "id": "ea57476b-4935-4526-a27d-a8adaa13e0fc",
   "metadata": {},
   "outputs": [
    {
     "name": "stdout",
     "output_type": "stream",
     "text": [
      "['apple' 'banana' 'cherry']\n"
     ]
    }
   ],
   "source": [
    "import numpy as np\n",
    "arr=np.array(['banana','cherry','apple'])\n",
    "print(np.sort(arr))"
   ]
  },
  {
   "cell_type": "markdown",
   "id": "c2c5c611-95d4-44f8-929a-55478657e2bc",
   "metadata": {},
   "source": [
    "Function for integers"
   ]
  },
  {
   "cell_type": "code",
   "execution_count": 33,
   "id": "662a0c49-5225-4ecd-adb2-3b021d85e474",
   "metadata": {},
   "outputs": [
    {
     "name": "stdout",
     "output_type": "stream",
     "text": [
      "4\n"
     ]
    }
   ],
   "source": [
    "from numpy import random\n",
    "x=random.randint(10) #random number\n",
    "print(x)"
   ]
  },
  {
   "cell_type": "code",
   "execution_count": 34,
   "id": "c402a465-98cd-40c1-bc30-39d9b227fad7",
   "metadata": {},
   "outputs": [
    {
     "name": "stdout",
     "output_type": "stream",
     "text": [
      "9\n"
     ]
    }
   ],
   "source": [
    "y= random.randint(5,10)\n",
    "print(y)"
   ]
  },
  {
   "cell_type": "code",
   "execution_count": 35,
   "id": "4d42c44a-ff42-4117-a03f-4b67bc7d6fbf",
   "metadata": {},
   "outputs": [
    {
     "name": "stdout",
     "output_type": "stream",
     "text": [
      "[777 925  95 935 549 209]\n"
     ]
    }
   ],
   "source": [
    "from numpy import random\n",
    "\n",
    "x=random.randint(1000,size=(6)) # generate a 1-D array containing 5 random integers\n",
    "print(x)"
   ]
  },
  {
   "cell_type": "code",
   "execution_count": 37,
   "id": "eadd068b-4e5b-41c7-b8ad-cd0da53f42e5",
   "metadata": {},
   "outputs": [
    {
     "name": "stdout",
     "output_type": "stream",
     "text": [
      "[[40  0 62 26 72]\n",
      " [86 82  1  3  8]\n",
      " [29 56 99 44 80]]\n"
     ]
    }
   ],
   "source": [
    "x= random.randint(100,size=(3,5)) # genertae a 2-D array with 3 rows...\n",
    "print(x)"
   ]
  },
  {
   "cell_type": "markdown",
   "id": "ed3f5b2b-615a-44c3-a400-3701e4d62557",
   "metadata": {},
   "source": [
    "real-valued distribution"
   ]
  },
  {
   "cell_type": "code",
   "execution_count": 38,
   "id": "4ee81006-fb2f-4317-9d53-bda44f2b51a1",
   "metadata": {},
   "outputs": [
    {
     "name": "stdout",
     "output_type": "stream",
     "text": [
      "0.8188523329781506\n"
     ]
    }
   ],
   "source": [
    "from numpy import random\n",
    "x=random.rand() #random float 0.0 <= x< 1.0\n",
    "print(x)"
   ]
  },
  {
   "cell_type": "markdown",
   "id": "96ca9dab-3873-4eea-b17a-8ce258b2c8f0",
   "metadata": {},
   "source": [
    "Function for sequences"
   ]
  },
  {
   "cell_type": "code",
   "execution_count": 39,
   "id": "9566c427-909a-4103-98e0-0bd25a9b7ae5",
   "metadata": {},
   "outputs": [
    {
     "name": "stdout",
     "output_type": "stream",
     "text": [
      "7\n"
     ]
    }
   ],
   "source": [
    "from numpy import random\n",
    "x=random.choice([3,5,7,9])\n",
    "print(x)"
   ]
  },
  {
   "cell_type": "code",
   "execution_count": 41,
   "id": "baf23a2e-7811-44df-a4c6-1e2e51b9b87e",
   "metadata": {},
   "outputs": [
    {
     "name": "stdout",
     "output_type": "stream",
     "text": [
      "[9 3 9]\n"
     ]
    }
   ],
   "source": [
    "from numpy import random\n",
    "x=random.choice([3,5,7,9],size=(3,)) \n",
    "print(x)"
   ]
  },
  {
   "cell_type": "markdown",
   "id": "eb27d294-5b3a-404b-9690-96a17e2877f1",
   "metadata": {},
   "source": [
    "Broadcasting"
   ]
  },
  {
   "cell_type": "code",
   "execution_count": 42,
   "id": "17ec48cd-c577-4942-90a1-72203929929f",
   "metadata": {},
   "outputs": [],
   "source": [
    "import numpy as np\n",
    "my_array=np.array([0,1,2,3,4,5,6,7,8,9,10,11,12,13,14])"
   ]
  },
  {
   "cell_type": "code",
   "execution_count": 43,
   "id": "52a451de-33ed-4a88-bbd6-65c74d8ac063",
   "metadata": {},
   "outputs": [],
   "source": [
    "my_array[0:5]=22"
   ]
  },
  {
   "cell_type": "code",
   "execution_count": 44,
   "id": "33d2d427-6728-4d6f-836c-0a2b82acec4b",
   "metadata": {},
   "outputs": [
    {
     "data": {
      "text/plain": [
       "array([22, 22, 22, 22, 22,  5,  6,  7,  8,  9, 10, 11, 12, 13, 14])"
      ]
     },
     "execution_count": 44,
     "metadata": {},
     "output_type": "execute_result"
    }
   ],
   "source": [
    "my_array"
   ]
  },
  {
   "cell_type": "code",
   "execution_count": null,
   "id": "a03fb838-de2e-4fcd-8d70-fe4fa4feaaa0",
   "metadata": {},
   "outputs": [],
   "source": []
  }
 ],
 "metadata": {
  "kernelspec": {
   "display_name": "Python 3 (ipykernel)",
   "language": "python",
   "name": "python3"
  },
  "language_info": {
   "codemirror_mode": {
    "name": "ipython",
    "version": 3
   },
   "file_extension": ".py",
   "mimetype": "text/x-python",
   "name": "python",
   "nbconvert_exporter": "python",
   "pygments_lexer": "ipython3",
   "version": "3.12.1"
  }
 },
 "nbformat": 4,
 "nbformat_minor": 5
}
