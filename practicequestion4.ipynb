{
 "cells": [
  {
   "cell_type": "markdown",
   "id": "ecc13575-f013-4c41-9b77-f0e4ed80f930",
   "metadata": {},
   "source": [
    "Practice Questions\n",
    "1. Create a numpy array filled with all ones by defining its shape.\n",
    "2. How do you remove rows from a Numpy array that contains non-numeric values?\n",
    "3. Remove single-dimensional entries from the shape of an array\n",
    "4. How do you check whether specified values are present in the NumPy array?\n",
    "5. Write a NumPy program to sort a given array of shape 2 along the first axis, last axis, and\n",
    "flattened array.\n",
    "6. Write a NumPy program to create a structured array from a given student name, height,\n",
    "class, and data type. Now sort by class, then height if the classes are equal.\n",
    "7. Write a NumPy program to sort a given complex array using the real part first, then the\n",
    "imaginary part.\n",
    "8. Write a NumPy program to sort a given array by the nth column.\n",
    "9. Calculate the sum of the diagonal elements of a NumPy array\n",
    "10. Write a program for Matrix Multiplication in NumPy\n",
    "11. Multiply matrices of complex numbers using NumPy in Python\n",
    "12. Compute the covariance matrix of two given NumPy arrays.\n",
    "13. Convert covariance matrix to correlation matrix using Python\n",
    "14. Write a NumPy program to compute the histogram of nums against the bins.\n",
    "15. Write a NumPy program to compute the cross-correlation of two given arrays\n",
    "16. Write a NumPy program to compute the mean, standard deviation, and variance of a\n",
    "given array along the second axis."
   ]
  },
  {
   "cell_type": "code",
   "execution_count": 1,
   "id": "41d4abbe-3fa3-4efb-b650-4b43cfdd7649",
   "metadata": {},
   "outputs": [
    {
     "name": "stdout",
     "output_type": "stream",
     "text": [
      "[[1. 1. 1. 1.]\n",
      " [1. 1. 1. 1.]\n",
      " [1. 1. 1. 1.]]\n"
     ]
    }
   ],
   "source": [
    "#1\n",
    "import numpy as np\n",
    "\n",
    "arr = np.ones((3, 4))  # 3x4 array filled with ones\n",
    "print(arr)\n"
   ]
  },
  {
   "cell_type": "code",
   "execution_count": 3,
   "id": "83de339a-74b1-4d16-a3e9-eb6fe00da409",
   "metadata": {},
   "outputs": [
    {
     "name": "stdout",
     "output_type": "stream",
     "text": [
      "[[1 2]\n",
      " [4 5]]\n"
     ]
    }
   ],
   "source": [
    "#2\n",
    "arr = np.array([[\"1\", \"2\"], [\"3\", \"x\"], [\"4\", \"5\"]])\n",
    "\n",
    "mask = np.array([np.char.isnumeric(row).all() for row in arr])\n",
    "cleaned = arr[mask]\n",
    "print(cleaned.astype(int))"
   ]
  },
  {
   "cell_type": "code",
   "execution_count": 4,
   "id": "2c57fd91-2eea-4db2-a9d2-a833de36be08",
   "metadata": {},
   "outputs": [
    {
     "name": "stdout",
     "output_type": "stream",
     "text": [
      "Original shape: (1, 3, 1)\n",
      "After squeeze: (3,)\n"
     ]
    }
   ],
   "source": [
    "#3\n",
    "arr = np.array([[[1], [2], [3]]])\n",
    "print(\"Original shape:\", arr.shape)\n",
    "squeezed = np.squeeze(arr)\n",
    "print(\"After squeeze:\", squeezed.shape)\n"
   ]
  },
  {
   "cell_type": "code",
   "execution_count": 5,
   "id": "edc851dc-567e-4d95-bbf4-5e3e7f53ab25",
   "metadata": {},
   "outputs": [
    {
     "name": "stdout",
     "output_type": "stream",
     "text": [
      "True\n",
      "[ True False]\n"
     ]
    }
   ],
   "source": [
    "#4\n",
    "arr = np.array([1, 2, 3, 4, 5])\n",
    "print(3 in arr)       # True\n",
    "print(np.isin([2, 6], arr))  # [True, False]"
   ]
  },
  {
   "cell_type": "code",
   "execution_count": 6,
   "id": "73442e1b-772c-42d6-be2d-92f009dc4bf0",
   "metadata": {},
   "outputs": [
    {
     "name": "stdout",
     "output_type": "stream",
     "text": [
      "Sort along first axis:\n",
      " [[3 1 2]\n",
      " [6 4 5]]\n",
      "Sort along last axis:\n",
      " [[1 2 3]\n",
      " [4 5 6]]\n",
      "Flattened sort:\n",
      " [1 2 3 4 5 6]\n"
     ]
    }
   ],
   "source": [
    "#5\n",
    "arr = np.array([[3, 1, 2], [6, 4, 5]])\n",
    "\n",
    "print(\"Sort along first axis:\\n\", np.sort(arr, axis=0))\n",
    "print(\"Sort along last axis:\\n\", np.sort(arr, axis=-1))\n",
    "print(\"Flattened sort:\\n\", np.sort(arr, axis=None))"
   ]
  },
  {
   "cell_type": "code",
   "execution_count": 7,
   "id": "a2a6e28c-8214-4dcb-af89-ab67cd9704f1",
   "metadata": {},
   "outputs": [
    {
     "name": "stdout",
     "output_type": "stream",
     "text": [
      "[('Bob', 5.8,  9) ('Alice', 5.5, 10) ('Charlie', 5.7, 10)]\n"
     ]
    }
   ],
   "source": [
    "#6\n",
    "data = np.array([(\"Alice\", 5.5, 10), \n",
    "                 (\"Bob\", 5.8, 9), \n",
    "                 (\"Charlie\", 5.7, 10)],\n",
    "                 dtype=[(\"name\", \"U10\"), (\"height\", \"f4\"), (\"class\", \"i4\")])\n",
    "\n",
    "sorted_data = np.sort(data, order=[\"class\", \"height\"])\n",
    "print(sorted_data)"
   ]
  },
  {
   "cell_type": "code",
   "execution_count": 8,
   "id": "1abdd18b-6193-4ebf-a066-dfb77fa14f5a",
   "metadata": {},
   "outputs": [
    {
     "name": "stdout",
     "output_type": "stream",
     "text": [
      "[1.+2.j 1.+4.j 2.+1.j 2.+3.j]\n"
     ]
    }
   ],
   "source": [
    "#7\n",
    "arr = np.array([2+3j, 1+2j, 2+1j, 1+4j])\n",
    "sorted_arr = np.sort_complex(arr)\n",
    "print(sorted_arr)"
   ]
  },
  {
   "cell_type": "code",
   "execution_count": 9,
   "id": "62a22bfd-b005-4f6e-9e4c-52f9981c81ff",
   "metadata": {},
   "outputs": [
    {
     "name": "stdout",
     "output_type": "stream",
     "text": [
      "[[9 4 8]\n",
      " [2 6 5]\n",
      " [3 7 1]]\n"
     ]
    }
   ],
   "source": [
    "#8\n",
    "arr = np.array([[3, 7, 1], [2, 6, 5], [9, 4, 8]])\n",
    "n = 1  # sort by 2nd column\n",
    "sorted_arr = arr[arr[:, n].argsort()]\n",
    "print(sorted_arr)"
   ]
  },
  {
   "cell_type": "code",
   "execution_count": 10,
   "id": "aa30b95a-673c-432a-bce4-cbab7fe5bbd9",
   "metadata": {},
   "outputs": [
    {
     "name": "stdout",
     "output_type": "stream",
     "text": [
      "15\n"
     ]
    }
   ],
   "source": [
    "#9\n",
    "arr = np.array([[1, 2, 3], \n",
    "                [4, 5, 6], \n",
    "                [7, 8, 9]])\n",
    "print(np.trace(arr))  # 1+5+9 = 15"
   ]
  },
  {
   "cell_type": "code",
   "execution_count": 11,
   "id": "dc17c78e-5ace-4545-9258-9ed9a5a4cc3d",
   "metadata": {},
   "outputs": [
    {
     "name": "stdout",
     "output_type": "stream",
     "text": [
      "[[19 22]\n",
      " [43 50]]\n"
     ]
    }
   ],
   "source": [
    "#10\n",
    "A = np.array([[1, 2], [3, 4]])\n",
    "B = np.array([[5, 6], [7, 8]])\n",
    "\n",
    "C = np.dot(A, B)\n",
    "print(C)"
   ]
  },
  {
   "cell_type": "code",
   "execution_count": 12,
   "id": "51a9f9eb-133b-4f1f-8b8b-7cb27302b6d5",
   "metadata": {},
   "outputs": [
    {
     "name": "stdout",
     "output_type": "stream",
     "text": [
      "[[-17. +53.j -19. +61.j]\n",
      " [-21.+105.j -23.+121.j]]\n"
     ]
    }
   ],
   "source": [
    "#11\n",
    "A = np.array([[1+2j, 2+3j], [3+4j, 4+5j]])\n",
    "B = np.array([[5+6j, 6+7j], [7+8j, 8+9j]])\n",
    "\n",
    "C = np.matmul(A, B)\n",
    "print(C)"
   ]
  },
  {
   "cell_type": "code",
   "execution_count": 13,
   "id": "173238c1-4d66-4752-a4c7-92facd3df27e",
   "metadata": {},
   "outputs": [
    {
     "name": "stdout",
     "output_type": "stream",
     "text": [
      "[[6.66666667 6.66666667]\n",
      " [6.66666667 6.66666667]]\n"
     ]
    }
   ],
   "source": [
    "#12\n",
    "x = np.array([2, 4, 6, 8])\n",
    "y = np.array([1, 3, 5, 7])\n",
    "\n",
    "cov_matrix = np.cov(x, y)\n",
    "print(cov_matrix)"
   ]
  },
  {
   "cell_type": "code",
   "execution_count": 14,
   "id": "723e9cb8-16de-41c8-b5b2-ca17f28492cb",
   "metadata": {},
   "outputs": [
    {
     "name": "stdout",
     "output_type": "stream",
     "text": [
      "[[1. 1.]\n",
      " [1. 1.]]\n"
     ]
    }
   ],
   "source": [
    "#13\n",
    "cov = np.cov(x, y)\n",
    "stddev = np.sqrt(np.diag(cov))\n",
    "corr = cov / np.outer(stddev, stddev)\n",
    "print(corr)"
   ]
  },
  {
   "cell_type": "code",
   "execution_count": 15,
   "id": "ec989a0c-6c18-4738-b4f1-04b4ab4effb7",
   "metadata": {},
   "outputs": [
    {
     "name": "stdout",
     "output_type": "stream",
     "text": [
      "Histogram: [0 3 3 3 1]\n",
      "Bins: [0 1 2 3 4 5]\n"
     ]
    }
   ],
   "source": [
    "#14\n",
    "nums = np.array([1, 2, 1, 3, 2, 4, 3, 3, 2, 1])\n",
    "hist, bins = np.histogram(nums, bins=[0,1,2,3,4,5])\n",
    "print(\"Histogram:\", hist)\n",
    "print(\"Bins:\", bins)"
   ]
  },
  {
   "cell_type": "code",
   "execution_count": 16,
   "id": "efdfff1d-ce26-47fd-a0e5-61a988cd5d76",
   "metadata": {},
   "outputs": [
    {
     "name": "stdout",
     "output_type": "stream",
     "text": [
      "[0.5 2.  3.5 3.  0. ]\n"
     ]
    }
   ],
   "source": [
    "#15\n",
    "a = np.array([1, 2, 3])\n",
    "b = np.array([0, 1, 0.5])\n",
    "\n",
    "cross_corr = np.correlate(a, b, mode=\"full\")\n",
    "print(cross_corr)"
   ]
  },
  {
   "cell_type": "code",
   "execution_count": 17,
   "id": "ff47d62f-17c5-495f-b2ca-5eacb7bcb001",
   "metadata": {},
   "outputs": [
    {
     "name": "stdout",
     "output_type": "stream",
     "text": [
      "Mean: [2. 5. 8.]\n",
      "Std: [0.81649658 0.81649658 0.81649658]\n",
      "Var: [0.66666667 0.66666667 0.66666667]\n"
     ]
    }
   ],
   "source": [
    "#16\n",
    "arr = np.array([[1, 2, 3], \n",
    "                [4, 5, 6], \n",
    "                [7, 8, 9]])\n",
    "\n",
    "print(\"Mean:\", np.mean(arr, axis=1))\n",
    "print(\"Std:\", np.std(arr, axis=1))\n",
    "print(\"Var:\", np.var(arr, axis=1))"
   ]
  },
  {
   "cell_type": "code",
   "execution_count": null,
   "id": "77348c78-a3a1-49b4-9df7-ea6a914a39f0",
   "metadata": {},
   "outputs": [],
   "source": []
  }
 ],
 "metadata": {
  "kernelspec": {
   "display_name": "Python 3 (ipykernel)",
   "language": "python",
   "name": "python3"
  },
  "language_info": {
   "codemirror_mode": {
    "name": "ipython",
    "version": 3
   },
   "file_extension": ".py",
   "mimetype": "text/x-python",
   "name": "python",
   "nbconvert_exporter": "python",
   "pygments_lexer": "ipython3",
   "version": "3.12.1"
  }
 },
 "nbformat": 4,
 "nbformat_minor": 5
}
