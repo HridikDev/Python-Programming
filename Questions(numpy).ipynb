{
 "cells": [
  {
   "cell_type": "markdown",
   "id": "b24fc75f-3358-443e-a70a-2281ec57a106",
   "metadata": {},
   "source": [
    "1. Create a NumPy array of integers from 1 to 10 and print its shape, size, and data type.\n",
    "2. Create a 2D NumPy array of shape (3, 3) with values from 1 to 9 and display:\n",
    "● Number of dimensions (ndim)\n",
    "● Shape\n",
    "● Sum of all elements\n",
    "\n",
    "3. Create an array of 5 zeros and another of 5 ones. Multiply both and display the result.\n",
    "4. Create an array of even numbers between 20 and 40. Use slicing to display the first 3\n",
    "elements.\n",
    "5. Reshape a 1D array of 12 elements into a 3x4 matrix and calculate the sum along axis=0 and\n",
    "axis=1.\n",
    "6. Create a 5x5 identity matrix using NumPy.\n",
    "7. Create a 1D array of 10 random integers between 1 and 100. Find the maximum and\n",
    "minimum values and their indices.\n",
    "8. Generate a NumPy array of 6 float numbers between 0 and 1 using linspace. Round the\n",
    "values to 2 decimal places.\n",
    "9. Create a NumPy array with some repeated values and remove the duplicates.\n",
    "10. Create two 3x3 matrices and perform the following operations:\n",
    "● Matrix addition\n",
    "● Matrix multiplication\n",
    "● Element-wise multiplication"
   ]
  },
  {
   "cell_type": "code",
   "execution_count": null,
   "id": "dde7f123-de32-4e99-b95d-fc8bb45611ed",
   "metadata": {},
   "outputs": [],
   "source": []
  }
 ],
 "metadata": {
  "kernelspec": {
   "display_name": "Python 3 (ipykernel)",
   "language": "python",
   "name": "python3"
  },
  "language_info": {
   "codemirror_mode": {
    "name": "ipython",
    "version": 3
   },
   "file_extension": ".py",
   "mimetype": "text/x-python",
   "name": "python",
   "nbconvert_exporter": "python",
   "pygments_lexer": "ipython3",
   "version": "3.12.1"
  }
 },
 "nbformat": 4,
 "nbformat_minor": 5
}
