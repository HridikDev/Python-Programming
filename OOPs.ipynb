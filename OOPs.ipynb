{
 "cells": [
  {
   "cell_type": "code",
   "execution_count": 1,
   "id": "774652d2-a031-4384-b755-0600dffabe08",
   "metadata": {},
   "outputs": [
    {
     "name": "stdout",
     "output_type": "stream",
     "text": [
      "<class 'int'>\n",
      "<class 'function'>\n"
     ]
    }
   ],
   "source": [
    "a=1\n",
    "print(type(a))\n",
    "\n",
    "def display():\n",
    "    pass\n",
    "\n",
    "print(type(display))    "
   ]
  },
  {
   "cell_type": "code",
   "execution_count": 4,
   "id": "e7f9178e-716a-4922-905e-c85e3d0bea15",
   "metadata": {},
   "outputs": [
    {
     "name": "stdout",
     "output_type": "stream",
     "text": [
      "Name: Alice, Age: 21\n",
      "Name: Bob, Age: 22\n"
     ]
    }
   ],
   "source": [
    "class Student:\n",
    "    def __init__(self, name, age):\n",
    "        self.name=name\n",
    "        self.age=age\n",
    "    def display_info(self):\n",
    "        print(f\"Name: {self.name}, Age: {self.age}\")\n",
    "\n",
    "#object creation\n",
    "s1=Student(\"Alice\", 21)\n",
    "s2=Student(\"Bob\", 22)\n",
    "\n",
    "s1.display_info()\n",
    "s2.display_info()"
   ]
  },
  {
   "cell_type": "code",
   "execution_count": 6,
   "id": "9ca758f1-c9b5-4a6d-9890-ecb5354ad4fd",
   "metadata": {},
   "outputs": [
    {
     "name": "stdout",
     "output_type": "stream",
     "text": [
      "My name is John and i am 25 years old.\n"
     ]
    }
   ],
   "source": [
    "class Person:\n",
    "    def __init__(self, name, age):\n",
    "        self.name=name\n",
    "        self.age=age\n",
    "    def introduce(self): #method\n",
    "        print(f\"My name is {self.name} and i am {self.age} years old.\")\n",
    "\n",
    "# Create object\n",
    "p1=Person(\"John\", 25)\n",
    "p1.introduce()"
   ]
  },
  {
   "cell_type": "code",
   "execution_count": 7,
   "id": "31368cd9-c324-4386-94be-85eaef3bfab9",
   "metadata": {},
   "outputs": [
    {
     "name": "stdout",
     "output_type": "stream",
     "text": [
      "This is a Apple Iphone.\n"
     ]
    }
   ],
   "source": [
    "class Car:\n",
    "    def __init__(self, brand, model):\n",
    "        self.brand=brand\n",
    "        self.model=model\n",
    "\n",
    "    def details(self):\n",
    "        print(f\"This is a {self.brand} {self.model}.\")\n",
    "\n",
    "#Create object\n",
    "c1=Car(\"Apple\",\"Iphone\")\n",
    "c1.details()"
   ]
  },
  {
   "cell_type": "markdown",
   "id": "19f6f46a-6bcf-4a92-a7af-c897345a9b71",
   "metadata": {},
   "source": [
    "1. Define a class Student with attributes name, roll_no, and grade. Create three student objects and print their data using a method show().  \n",
    "\n",
    "2. Write a class Book with attributes title, author, and price. Use the constructor to initialize the values. Create an object with your favorite book details.\n",
    "\n",
    "3. Create a class Account with attributes name and balance. Write a method deposit(amount) that adds money to balance. Create an object and deposit ₹1000.\n",
    "\n",
    "4. Create a class Lamp with a method toggle() to switch the lamp between ON and OFF. Create a lamp object and call the method multiple times.\n",
    "\n",
    "5. Create a class Employee with attributes name and salary. Create a list of 5 employees and display all names and salaries using a loop.\n",
    "\n",
    "6. Create a class MobilePhone with brand and model. Create an object. Change the model after creation using a method update_model(new_model). Show both old and new model names."
   ]
  },
  {
   "cell_type": "code",
   "execution_count": 10,
   "id": "43bb15fc-65ee-49fe-934f-ef773e2968c9",
   "metadata": {},
   "outputs": [
    {
     "name": "stdout",
     "output_type": "stream",
     "text": [
      "Name: John, Roll_no: 32, Grade: A\n"
     ]
    }
   ],
   "source": [
    "#1\n",
    "class Student:\n",
    "    def __init__(self,name, roll_no, grade):\n",
    "        self.name=name\n",
    "        self.roll_no=roll_no\n",
    "        self.grade=grade\n",
    "    def show(self):#method\n",
    "        print(f\"Name: {self.name}, Roll_no: {self.roll_no}, Grade: {self.grade}\")\n",
    "\n",
    "#creating object\n",
    "s1=Student(\"John\",\"32\",\"A\")\n",
    "s1.show()"
   ]
  },
  {
   "cell_type": "code",
   "execution_count": null,
   "id": "7d39d958-b04c-44b5-a703-41f71c12d80f",
   "metadata": {},
   "outputs": [],
   "source": [
    "#2"
   ]
  },
  {
   "cell_type": "code",
   "execution_count": null,
   "id": "bdda10e8-9362-47e9-8d68-0e35c6a13111",
   "metadata": {},
   "outputs": [],
   "source": [
    "#3"
   ]
  },
  {
   "cell_type": "code",
   "execution_count": 12,
   "id": "f3485963-6e93-4b5a-adee-c5376abd51c0",
   "metadata": {},
   "outputs": [
    {
     "name": "stdout",
     "output_type": "stream",
     "text": [
      "Lignt is  ON\n",
      "Lignt is  OFF\n"
     ]
    }
   ],
   "source": [
    "#4\n",
    "class LightBulb:\n",
    "    def __init__(self, status):\n",
    "        self.status=status\n",
    "\n",
    "    def toggle(self):\n",
    "        self.status=\"OFF\" if self.status==\"ON\" else \"ON\"\n",
    "        print(\"Lignt is \",self.status)\n",
    "\n",
    "bulb=LightBulb(\"OFF\")\n",
    "bulb.toggle()\n",
    "bulb.toggle()"
   ]
  },
  {
   "cell_type": "code",
   "execution_count": null,
   "id": "08611281-f1e1-422a-8b0c-6ca83130a0a3",
   "metadata": {},
   "outputs": [],
   "source": [
    "#5"
   ]
  },
  {
   "cell_type": "code",
   "execution_count": null,
   "id": "3d127519-da82-409b-b0c7-4eb2dbe441e9",
   "metadata": {},
   "outputs": [],
   "source": [
    "#6"
   ]
  },
  {
   "cell_type": "code",
   "execution_count": 17,
   "id": "93263ff7-f740-4db6-989d-08adaf801ef4",
   "metadata": {},
   "outputs": [
    {
     "name": "stdout",
     "output_type": "stream",
     "text": [
      "ABC High School\n",
      "ABC High School\n",
      "Alice\n",
      "Bob\n",
      "25\n",
      "27\n"
     ]
    }
   ],
   "source": [
    "class Student:\n",
    "    school_name=\"ABC High School\" #Class attribute\n",
    "\n",
    "    def __init__(self, name,age):\n",
    "        self.name=name          #Instance attribute\n",
    "        self.age=age\n",
    "\n",
    "s1=Student(\"Alice\",25)\n",
    "s2=Student(\"Bob\",27)\n",
    "\n",
    "print(s1.school_name)\n",
    "print(s2.school_name)\n",
    "print(s1.name)\n",
    "print(s2.name)\n",
    "print(s1.age)\n",
    "print(s2.age)"
   ]
  },
  {
   "cell_type": "code",
   "execution_count": null,
   "id": "ae405f10-a9b2-4e55-b0c6-72d088d74b07",
   "metadata": {},
   "outputs": [],
   "source": []
  }
 ],
 "metadata": {
  "kernelspec": {
   "display_name": "Python 3 (ipykernel)",
   "language": "python",
   "name": "python3"
  },
  "language_info": {
   "codemirror_mode": {
    "name": "ipython",
    "version": 3
   },
   "file_extension": ".py",
   "mimetype": "text/x-python",
   "name": "python",
   "nbconvert_exporter": "python",
   "pygments_lexer": "ipython3",
   "version": "3.12.1"
  }
 },
 "nbformat": 4,
 "nbformat_minor": 5
}
