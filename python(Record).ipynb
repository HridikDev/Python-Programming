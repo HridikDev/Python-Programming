{
 "cells": [
  {
   "cell_type": "code",
   "execution_count": 4,
   "id": "bfce1bcc-7f72-4d2c-aa55-26e39d0ff7cd",
   "metadata": {},
   "outputs": [
    {
     "name": "stdout",
     "output_type": "stream",
     "text": [
      "---- Calculator ----\n",
      "1. Add\n",
      "2. Subtract\n",
      "3. Multiply\n",
      "4. Divide\n"
     ]
    },
    {
     "name": "stdin",
     "output_type": "stream",
     "text": [
      "Enter your choice (1-4):  1\n",
      "Enter first number:  12\n",
      "Enter second number:  12\n"
     ]
    },
    {
     "name": "stdout",
     "output_type": "stream",
     "text": [
      "Result: 24.0\n"
     ]
    }
   ],
   "source": [
    "class Calculator:\n",
    "    def add(self, a, b):\n",
    "        return a + b\n",
    "\n",
    "    def subtract(self, a, b):\n",
    "        return a - b\n",
    "\n",
    "    def multiply(self, a, b):\n",
    "        return a * b\n",
    "\n",
    "    def divide(self, a, b):\n",
    "        if b == 0:\n",
    "            return \"Division by zero not allowed\"\n",
    "        return a / b\n",
    "\n",
    "\n",
    "if __name__ == \"__main__\":\n",
    "    calc = Calculator()\n",
    "\n",
    "    print(\"---- Calculator ----\")\n",
    "    print(\"1. Add\")\n",
    "    print(\"2. Subtract\")\n",
    "    print(\"3. Multiply\")\n",
    "    print(\"4. Divide\")\n",
    "\n",
    "    choice = int(input(\"Enter your choice (1-4): \"))\n",
    "    a = float(input(\"Enter first number: \"))\n",
    "    b = float(input(\"Enter second number: \"))\n",
    "\n",
    "    # Using match-case (Python 3.10+)\n",
    "    match choice:\n",
    "        case 1:\n",
    "            print(\"Result:\", calc.add(a, b))\n",
    "        case 2:\n",
    "            print(\"Result:\", calc.subtract(a, b))\n",
    "        case 3:\n",
    "            print(\"Result:\", calc.multiply(a, b))\n",
    "        case 4:\n",
    "            print(\"Result:\", calc.divide(a, b))\n",
    "        case _:\n",
    "            print(\"Invalid choice!\")\n"
   ]
  },
  {
   "cell_type": "code",
   "execution_count": 5,
   "id": "37feec88-70ca-461a-8308-8304c0a9cc23",
   "metadata": {},
   "outputs": [
    {
     "name": "stdout",
     "output_type": "stream",
     "text": [
      "---- Electric Car Information ----\n"
     ]
    },
    {
     "name": "stdin",
     "output_type": "stream",
     "text": [
      "Enter Vehicle Brand:  tesla\n",
      "Enter Car Model:  y\n",
      "Enter Battery Capacity (kWh):  100\n"
     ]
    },
    {
     "name": "stdout",
     "output_type": "stream",
     "text": [
      "\n",
      "--- Details ---\n",
      "Vehicle Brand: tesla\n",
      "Car Model: y\n",
      "Battery Capacity: 100 kWh\n"
     ]
    }
   ],
   "source": [
    "class Vehicle:\n",
    "    def __init__(self, brand):\n",
    "        self.brand = brand\n",
    "\n",
    "    def show_info(self):\n",
    "        print(f\"Vehicle Brand: {self.brand}\")\n",
    "\n",
    "\n",
    "class Car(Vehicle):\n",
    "    def __init__(self, brand, model):\n",
    "        super().__init__(brand)\n",
    "        self.model = model\n",
    "\n",
    "    def show_info(self):\n",
    "        super().show_info()\n",
    "        print(f\"Car Model: {self.model}\")\n",
    "\n",
    "\n",
    "class ElectricCar(Car):\n",
    "    def __init__(self, brand, model, battery_capacity):\n",
    "        super().__init__(brand, model)\n",
    "        self.battery_capacity = battery_capacity\n",
    "\n",
    "    def show_info(self):\n",
    "        super().show_info()\n",
    "        print(f\"Battery Capacity: {self.battery_capacity} kWh\")\n",
    "\n",
    "\n",
    "# Demo with user input\n",
    "if __name__ == \"__main__\":\n",
    "    print(\"---- Electric Car Information ----\")\n",
    "    brand = input(\"Enter Vehicle Brand: \")\n",
    "    model = input(\"Enter Car Model: \")\n",
    "    battery = int(input(\"Enter Battery Capacity (kWh): \"))\n",
    "\n",
    "    ecar = ElectricCar(brand, model, battery)\n",
    "    print(\"\\n--- Details ---\")\n",
    "    ecar.show_info()\n"
   ]
  },
  {
   "cell_type": "code",
   "execution_count": 6,
   "id": "64b96a0e-aaf6-49a3-b75f-2dd09d5fb36c",
   "metadata": {},
   "outputs": [
    {
     "name": "stdout",
     "output_type": "stream",
     "text": [
      "---- Shape Area Calculator ----\n",
      "1. Rectangle\n",
      "2. Circle\n"
     ]
    },
    {
     "name": "stdin",
     "output_type": "stream",
     "text": [
      "Choose a shape (1-2):  1\n",
      "Enter length:  12\n",
      "Enter width:  5\n"
     ]
    },
    {
     "name": "stdout",
     "output_type": "stream",
     "text": [
      "Area of Rectangle: 60.0\n"
     ]
    }
   ],
   "source": [
    "import math\n",
    "\n",
    "class Shape:\n",
    "    def area(self):\n",
    "        pass\n",
    "\n",
    "\n",
    "class Rectangle(Shape):\n",
    "    def __init__(self, length, width):\n",
    "        self.length = length\n",
    "        self.width = width\n",
    "\n",
    "    def area(self):\n",
    "        return self.length * self.width\n",
    "\n",
    "\n",
    "class Circle(Shape):\n",
    "    def __init__(self, radius):\n",
    "        self.radius = radius\n",
    "\n",
    "    def area(self):\n",
    "        return math.pi * (self.radius ** 2)\n",
    "\n",
    "\n",
    "if __name__ == \"__main__\":\n",
    "    print(\"---- Shape Area Calculator ----\")\n",
    "    print(\"1. Rectangle\")\n",
    "    print(\"2. Circle\")\n",
    "\n",
    "    choice = int(input(\"Choose a shape (1-2): \"))\n",
    "\n",
    "    match choice:\n",
    "        case 1:\n",
    "            length = float(input(\"Enter length: \"))\n",
    "            width = float(input(\"Enter width: \"))\n",
    "            rect = Rectangle(length, width)\n",
    "            print(\"Area of Rectangle:\", rect.area())\n",
    "        case 2:\n",
    "            radius = float(input(\"Enter radius: \"))\n",
    "            circ = Circle(radius)\n",
    "            print(\"Area of Circle:\", circ.area())\n",
    "        case _:\n",
    "            print(\"Invalid choice!\")\n"
   ]
  },
  {
   "cell_type": "code",
   "execution_count": 8,
   "id": "4b5446df-5397-4d3d-9fd7-2946a0a9a08c",
   "metadata": {},
   "outputs": [
    {
     "name": "stdout",
     "output_type": "stream",
     "text": [
      "---- File Statistics ----\n"
     ]
    },
    {
     "name": "stdin",
     "output_type": "stream",
     "text": [
      "Enter the filename:  sample.txt\n"
     ]
    },
    {
     "name": "stdout",
     "output_type": "stream",
     "text": [
      "\n",
      "--- File Statistics ---\n",
      "Lines: 3\n",
      "Words: 8\n",
      "Characters: 50\n"
     ]
    }
   ],
   "source": [
    "def file_statistics(filename):\n",
    "    try:\n",
    "        with open(filename, \"r\") as f:\n",
    "            text = f.read()\n",
    "        lines = text.split(\"\\n\")\n",
    "        words = text.split()\n",
    "        chars = len(text)\n",
    "\n",
    "        print(\"\\n--- File Statistics ---\")\n",
    "        print(f\"Lines: {len(lines)}\")\n",
    "        print(f\"Words: {len(words)}\")\n",
    "        print(f\"Characters: {chars}\")\n",
    "\n",
    "    except FileNotFoundError:\n",
    "        print(\"Error: File not found!\")\n",
    "\n",
    "\n",
    "if __name__ == \"__main__\":\n",
    "    print(\"---- File Statistics ----\")\n",
    "    filename = input(\"Enter the filename: \")\n",
    "    file_statistics(filename)\n"
   ]
  },
  {
   "cell_type": "code",
   "execution_count": 1,
   "id": "9df2c01d-ab3e-462f-9f0a-56dfcb345d7a",
   "metadata": {},
   "outputs": [
    {
     "name": "stdout",
     "output_type": "stream",
     "text": [
      "---- File Handling Demo ----\n",
      "\n",
      "--- Using read() ---\n",
      "Hello World!\n",
      "Python is fun.\n",
      "File handling demo.\n",
      "\n",
      "--- Using readline() ---\n",
      "First line: Hello World!\n",
      "--- Using readlines() ---\n",
      "Line 1: Hello World!\n",
      "Line 2: Python is fun.\n",
      "Line 3: File handling demo.\n"
     ]
    }
   ],
   "source": [
    "def file_handling_demo():\n",
    "    # Writing to a file\n",
    "    with open(\"demo.txt\", \"w\") as f:\n",
    "        f.write(\"Hello World!\\n\")               # write()\n",
    "        f.writelines([\"Python is fun.\\n\",       # writelines()\n",
    "                      \"File handling demo.\\n\"])\n",
    "\n",
    "    # Using read()\n",
    "    with open(\"demo.txt\", \"r\") as f:\n",
    "        content = f.read()\n",
    "        print(\"\\n--- Using read() ---\")\n",
    "        print(content)\n",
    "\n",
    "    # Using readline()\n",
    "    with open(\"demo.txt\", \"r\") as f:\n",
    "        print(\"--- Using readline() ---\")\n",
    "        line1 = f.readline()\n",
    "        print(\"First line:\", line1.strip())\n",
    "\n",
    "    # Using readlines()\n",
    "    with open(\"demo.txt\", \"r\") as f:\n",
    "        print(\"--- Using readlines() ---\")\n",
    "        lines = f.readlines()\n",
    "        for i, line in enumerate(lines, start=1):\n",
    "            print(f\"Line {i}: {line.strip()}\")\n",
    "\n",
    "\n",
    "if __name__ == \"__main__\":\n",
    "    print(\"---- File Handling Demo ----\")\n",
    "    file_handling_demo()\n"
   ]
  },
  {
   "cell_type": "code",
   "execution_count": 2,
   "id": "0b86fb0f-0ce6-4de5-ae90-e1341ab4b353",
   "metadata": {},
   "outputs": [
    {
     "name": "stdout",
     "output_type": "stream",
     "text": [
      "---- Date & Time Menu ----\n",
      "1. Show Current Date\n",
      "2. Show Current Time\n",
      "3. Show Day of Week\n",
      "4. Show All\n"
     ]
    },
    {
     "name": "stdin",
     "output_type": "stream",
     "text": [
      "Enter your choice (1-4):  1\n"
     ]
    },
    {
     "name": "stdout",
     "output_type": "stream",
     "text": [
      "Current Date: 2025-09-11\n"
     ]
    }
   ],
   "source": [
    "import datetime\n",
    "\n",
    "def show_date():\n",
    "    today = datetime.date.today()\n",
    "    print(\"Current Date:\", today)\n",
    "\n",
    "def show_time():\n",
    "    now = datetime.datetime.now()\n",
    "    print(\"Current Time:\", now.strftime(\"%H:%M:%S\"))\n",
    "\n",
    "def show_day():\n",
    "    today = datetime.date.today()\n",
    "    print(\"Day of Week:\", today.strftime(\"%A\"))\n",
    "\n",
    "def show_all():\n",
    "    now = datetime.datetime.now()\n",
    "    print(\"Date:\", now.date())\n",
    "    print(\"Time:\", now.strftime(\"%H:%M:%S\"))\n",
    "    print(\"Day:\", now.strftime(\"%A\"))\n",
    "\n",
    "\n",
    "if __name__ == \"__main__\":\n",
    "    print(\"---- Date & Time Menu ----\")\n",
    "    print(\"1. Show Current Date\")\n",
    "    print(\"2. Show Current Time\")\n",
    "    print(\"3. Show Day of Week\")\n",
    "    print(\"4. Show All\")\n",
    "\n",
    "    choice = int(input(\"Enter your choice (1-4): \"))\n",
    "\n",
    "    match choice:\n",
    "        case 1:\n",
    "            show_date()\n",
    "        case 2:\n",
    "            show_time()\n",
    "        case 3:\n",
    "            show_day()\n",
    "        case 4:\n",
    "            show_all()\n",
    "        case _:\n",
    "            print(\"Invalid choice!\")\n"
   ]
  },
  {
   "cell_type": "code",
   "execution_count": 3,
   "id": "75d93f10-5cdd-407f-87da-0f57b23383de",
   "metadata": {},
   "outputs": [
    {
     "name": "stdout",
     "output_type": "stream",
     "text": [
      "---- Age Calculator ----\n"
     ]
    },
    {
     "name": "stdin",
     "output_type": "stream",
     "text": [
      "Enter Day of Birth (1-31):  27\n",
      "Enter Month of Birth (1-12):  5\n",
      "Enter Year of Birth (e.g. 2000):  2003\n"
     ]
    },
    {
     "name": "stdout",
     "output_type": "stream",
     "text": [
      "Your age is: 22 years\n"
     ]
    }
   ],
   "source": [
    "import datetime\n",
    "\n",
    "def calculate_age(year, month, day):\n",
    "    today = datetime.date.today()\n",
    "    try:\n",
    "        dob = datetime.date(year, month, day)\n",
    "    except ValueError:\n",
    "        print(\"Invalid date entered!\")\n",
    "        return\n",
    "\n",
    "    if dob > today:\n",
    "        print(\"Error: Date of birth cannot be in the future.\")\n",
    "        return\n",
    "\n",
    "    age = today.year - dob.year - ((today.month, today.day) < (dob.month, dob.day))\n",
    "    print(f\"Your age is: {age} years\")\n",
    "\n",
    "\n",
    "if __name__ == \"__main__\":\n",
    "    print(\"---- Age Calculator ----\")\n",
    "    try:\n",
    "        day = int(input(\"Enter Day of Birth (1-31): \"))\n",
    "        month = int(input(\"Enter Month of Birth (1-12): \"))\n",
    "        year = int(input(\"Enter Year of Birth (e.g. 2000): \"))\n",
    "        calculate_age(year, month, day)\n",
    "    except ValueError:\n",
    "        print(\"Please enter valid numbers only!\")\n"
   ]
  },
  {
   "cell_type": "code",
   "execution_count": 5,
   "id": "d349fb97-4ed0-4269-ba0a-182db02e5684",
   "metadata": {},
   "outputs": [
    {
     "name": "stdout",
     "output_type": "stream",
     "text": [
      "---- Safe Division ----\n"
     ]
    },
    {
     "name": "stdin",
     "output_type": "stream",
     "text": [
      "Enter first number:  12\n",
      "Enter second number:  0\n"
     ]
    },
    {
     "name": "stdout",
     "output_type": "stream",
     "text": [
      "Error: Division by zero is not allowed!\n"
     ]
    }
   ],
   "source": [
    "def safe_division(a, b):\n",
    "    try:\n",
    "        result = a / b\n",
    "        print(\"Result:\", result)\n",
    "    except ZeroDivisionError:\n",
    "        print(\"Error: Division by zero is not allowed!\")\n",
    "\n",
    "\n",
    "if __name__ == \"__main__\":\n",
    "    print(\"---- Safe Division ----\")\n",
    "    try:\n",
    "        a = float(input(\"Enter first number: \"))\n",
    "        b = float(input(\"Enter second number: \"))\n",
    "        safe_division(a, b)\n",
    "    except ValueError:\n",
    "        print(\"Invalid input! Please enter numbers only.\")\n"
   ]
  },
  {
   "cell_type": "code",
   "execution_count": 7,
   "id": "a6389f94-6c01-4bf7-bc1f-4527ddf94ce9",
   "metadata": {},
   "outputs": [
    {
     "name": "stdout",
     "output_type": "stream",
     "text": [
      "---- Custom Exception Demo ----\n"
     ]
    },
    {
     "name": "stdin",
     "output_type": "stream",
     "text": [
      "Enter a positive number:  -12\n"
     ]
    },
    {
     "name": "stdout",
     "output_type": "stream",
     "text": [
      "Error: Negative value is not allowed!\n"
     ]
    }
   ],
   "source": [
    "# Custom Exception Class\n",
    "class NegativeValueError(Exception):\n",
    "    \"\"\"Raised when a negative value is entered\"\"\"\n",
    "    pass\n",
    "\n",
    "\n",
    "def check_positive_number(num):\n",
    "    if num < 0:\n",
    "        raise NegativeValueError(\"Negative value is not allowed!\")\n",
    "    else:\n",
    "        print(\"Valid number:\", num)\n",
    "\n",
    "\n",
    "if __name__ == \"__main__\":\n",
    "    print(\"---- Custom Exception Demo ----\")\n",
    "    try:\n",
    "        num = float(input(\"Enter a positive number: \"))\n",
    "        check_positive_number(num)\n",
    "    except NegativeValueError as e:\n",
    "        print(\"Error:\", e)\n",
    "    except ValueError:\n",
    "        print(\"Invalid input! Please enter a number.\")\n"
   ]
  },
  {
   "cell_type": "code",
   "execution_count": 8,
   "id": "71682d16-e65e-498f-beb5-b46a97fa1728",
   "metadata": {},
   "outputs": [
    {
     "name": "stdout",
     "output_type": "stream",
     "text": [
      "---- Try-Except-Else-Finally Demo ----\n"
     ]
    },
    {
     "name": "stdin",
     "output_type": "stream",
     "text": [
      "Enter first number:  10\n",
      "Enter second number:  12\n"
     ]
    },
    {
     "name": "stdout",
     "output_type": "stream",
     "text": [
      "Division successful! Result = 0.8333333333333334\n",
      "Execution completed (this block always runs).\n"
     ]
    }
   ],
   "source": [
    "def divide_numbers(a, b):\n",
    "    try:\n",
    "        result = a / b\n",
    "    except ZeroDivisionError:\n",
    "        print(\"Error: Cannot divide by zero!\")\n",
    "    except ValueError:\n",
    "        print(\"Error: Invalid input!\")\n",
    "    else:\n",
    "        print(\"Division successful! Result =\", result)\n",
    "    finally:\n",
    "        print(\"Execution completed (this block always runs).\")\n",
    "\n",
    "\n",
    "if __name__ == \"__main__\":\n",
    "    print(\"---- Try-Except-Else-Finally Demo ----\")\n",
    "    try:\n",
    "        a = float(input(\"Enter first number: \"))\n",
    "        b = float(input(\"Enter second number: \"))\n",
    "        divide_numbers(a, b)\n",
    "    except ValueError:\n",
    "        print(\"Invalid input! Please enter numbers only.\")\n"
   ]
  },
  {
   "cell_type": "code",
   "execution_count": null,
   "id": "bc98dba7-819d-41dc-b5f7-680ecb8a1841",
   "metadata": {},
   "outputs": [],
   "source": []
  }
 ],
 "metadata": {
  "kernelspec": {
   "display_name": "Python 3 (ipykernel)",
   "language": "python",
   "name": "python3"
  },
  "language_info": {
   "codemirror_mode": {
    "name": "ipython",
    "version": 3
   },
   "file_extension": ".py",
   "mimetype": "text/x-python",
   "name": "python",
   "nbconvert_exporter": "python",
   "pygments_lexer": "ipython3",
   "version": "3.12.1"
  }
 },
 "nbformat": 4,
 "nbformat_minor": 5
}
