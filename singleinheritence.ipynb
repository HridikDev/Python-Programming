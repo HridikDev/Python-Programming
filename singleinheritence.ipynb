{
 "cells": [
  {
   "cell_type": "code",
   "execution_count": 1,
   "id": "1c5e840d-cd83-41d8-8896-af4b26eee5c3",
   "metadata": {},
   "outputs": [
    {
     "name": "stdout",
     "output_type": "stream",
     "text": [
      "Featute from class A\n",
      "Featute from class B\n"
     ]
    }
   ],
   "source": [
    "class A:\n",
    "    def feature_a(self):\n",
    "        print(\"Featute from class A\")\n",
    "\n",
    "class B(A):\n",
    "    def feature_b(self):\n",
    "        print(\"Featute from class B\")\n",
    "\n",
    "obj=B()\n",
    "\n",
    "obj.feature_a()\n",
    "obj.feature_b()"
   ]
  },
  {
   "cell_type": "code",
   "execution_count": 2,
   "id": "9550d82a-9c55-4eaa-bfe9-f22651671868",
   "metadata": {},
   "outputs": [
    {
     "name": "stdout",
     "output_type": "stream",
     "text": [
      "Person:Dr.John\n",
      "Dr.John is a teacher.\n"
     ]
    }
   ],
   "source": [
    "class Person:\n",
    "    def __init__(self, name):\n",
    "        self.name=name\n",
    "    def display(self):\n",
    "        print(f\"Person:{self.name}\")\n",
    "\n",
    "class Teacher(Person):\n",
    "    def teach(self):\n",
    "        print(f\"{self.name} is a teacher.\")\n",
    "\n",
    "t1=Teacher(\"Dr.John\")\n",
    "t1.display()\n",
    "t1.teach()"
   ]
  },
  {
   "cell_type": "code",
   "execution_count": 3,
   "id": "1f369bd4-85d3-4e06-914f-95acac4098c8",
   "metadata": {},
   "outputs": [
    {
     "name": "stdout",
     "output_type": "stream",
     "text": [
      "Employee Name:Anjali\n",
      "Anjali writes python code.\n"
     ]
    }
   ],
   "source": [
    "class Employee:\n",
    "    def __init__(self, name):\n",
    "        self.name=name\n",
    "    def show_details(self):\n",
    "        print(f\"Employee Name:{self.name}\")\n",
    "\n",
    "class Developer(Employee):\n",
    "    def Write_code(self):\n",
    "        print(f\"{self.name} writes python code.\")\n",
    "\n",
    "dev=Developer(\"Anjali\")\n",
    "dev.show_details()\n",
    "dev.Write_code()"
   ]
  },
  {
   "cell_type": "markdown",
   "id": "869a4c54-77fd-4050-9b15-f560546c81c0",
   "metadata": {},
   "source": [
    "<p1>Mlutiple Inheritence</p1>"
   ]
  },
  {
   "cell_type": "code",
   "execution_count": null,
   "id": "1bcc937e-6ba2-4b27-bfc5-1ae1825f78d2",
   "metadata": {},
   "outputs": [],
   "source": [
    "class Scanner:\n",
    "    def scan(self):\n",
    "        print(\"Scanning document...\")\n",
    "\n",
    "class Printer:\n",
    "    def print_doc(self):\n",
    "        print(\"Printing document...\")\n",
    "\n",
    "class ALLInOneMachine(Scanner,Printer):"
   ]
  },
  {
   "cell_type": "markdown",
   "id": "2957dbf2-9db7-4a70-acd1-816aaa22ac41",
   "metadata": {},
   "source": [
    "<p1>Multiple Resolution Order</p1>"
   ]
  },
  {
   "cell_type": "code",
   "execution_count": 5,
   "id": "2f1105f8-5062-42f6-adfb-cb62e5ca301c",
   "metadata": {},
   "outputs": [
    {
     "name": "stdout",
     "output_type": "stream",
     "text": [
      "Method from class A\n"
     ]
    }
   ],
   "source": [
    "class A:\n",
    "    def show(self):\n",
    "        print(\"Method from class A\")\n",
    "\n",
    "class B:\n",
    "    def show(self):\n",
    "        print(\"Method from class B\")\n",
    "class C(A, B):#this decides the order(A,B) or (B,A)\n",
    "    pass\n",
    "\n",
    "obj=C()\n",
    "obj.show()"
   ]
  },
  {
   "cell_type": "code",
   "execution_count": 7,
   "id": "aa4f7096-888c-48a8-8bbf-74b8947e1067",
   "metadata": {},
   "outputs": [
    {
     "name": "stdout",
     "output_type": "stream",
     "text": [
      "(<class '__main__.C'>, <class '__main__.A'>, <class '__main__.B'>, <class 'object'>)\n"
     ]
    }
   ],
   "source": [
    "print(C.__mro__)  #Multiple Resolution Order"
   ]
  },
  {
   "cell_type": "markdown",
   "id": "a3e39020-05f7-43d2-8fc1-0614cf29ebab",
   "metadata": {},
   "source": [
    "<p1>Diamond problem in Multiple inheritence</p1>"
   ]
  },
  {
   "cell_type": "code",
   "execution_count": 12,
   "id": "0425af2e-014d-4c9f-a554-4a4145851581",
   "metadata": {},
   "outputs": [
    {
     "name": "stdout",
     "output_type": "stream",
     "text": [
      "Method from class C\n"
     ]
    }
   ],
   "source": [
    "class A:\n",
    "    def show(self):\n",
    "        print(\"Method from class A\")\n",
    "\n",
    "class B(A):\n",
    "    def show(self):\n",
    "        print(\"Method from class B\")\n",
    "\n",
    "class C(A):\n",
    "    def show(self):\n",
    "        print(\"Method from class C\")\n",
    "\n",
    "class D(C,B):\n",
    "    pass\n",
    "\n",
    "obj=D()\n",
    "obj.show()"
   ]
  },
  {
   "cell_type": "code",
   "execution_count": 13,
   "id": "0168f622-750a-41f1-bb86-9da422a51595",
   "metadata": {},
   "outputs": [
    {
     "name": "stdout",
     "output_type": "stream",
     "text": [
      "(<class '__main__.D'>, <class '__main__.C'>, <class '__main__.B'>, <class '__main__.A'>, <class 'object'>)\n"
     ]
    }
   ],
   "source": [
    "print(D.__mro__) "
   ]
  },
  {
   "cell_type": "markdown",
   "id": "b4d1a2e3-bd89-4d7e-afcb-17c4160f6214",
   "metadata": {},
   "source": [
    "<p1>Mlutilevel Inheritence</p1>"
   ]
  },
  {
   "cell_type": "code",
   "execution_count": 14,
   "id": "92e7cb91-59b4-4797-8735-faff31832cec",
   "metadata": {},
   "outputs": [
    {
     "name": "stdout",
     "output_type": "stream",
     "text": [
      "This is the feature from class A\n",
      "This is the feature from class B\n",
      "This is the feature from class C\n"
     ]
    }
   ],
   "source": [
    "class A:\n",
    "    def featute_a(self):\n",
    "        print(\"This is the feature from class A\")\n",
    "\n",
    "class B(A):\n",
    "    def featute_b(self):\n",
    "        print(\"This is the feature from class B\")\n",
    "\n",
    "class C(B):\n",
    "    def featute_c(self):\n",
    "        print(\"This is the feature from class C\")\n",
    "\n",
    "obj=C()\n",
    "obj.featute_a()\n",
    "obj.featute_b()\n",
    "obj.featute_c()"
   ]
  },
  {
   "cell_type": "code",
   "execution_count": null,
   "id": "540580cf-efd5-4244-8a4f-50769698b84f",
   "metadata": {},
   "outputs": [],
   "source": []
  }
 ],
 "metadata": {
  "kernelspec": {
   "display_name": "Python 3 (ipykernel)",
   "language": "python",
   "name": "python3"
  },
  "language_info": {
   "codemirror_mode": {
    "name": "ipython",
    "version": 3
   },
   "file_extension": ".py",
   "mimetype": "text/x-python",
   "name": "python",
   "nbconvert_exporter": "python",
   "pygments_lexer": "ipython3",
   "version": "3.12.1"
  }
 },
 "nbformat": 4,
 "nbformat_minor": 5
}
