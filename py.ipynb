{
 "cells": [
  {
   "cell_type": "code",
   "execution_count": 4,
   "id": "c5651072-4364-41c1-a1a4-bfbab82a5795",
   "metadata": {},
   "outputs": [
    {
     "name": "stdout",
     "output_type": "stream",
     "text": [
      "30\n"
     ]
    }
   ],
   "source": [
    "a=10\n",
    "b=20\n",
    "c=30\n",
    "\n",
    "if (a>b and a>c):\n",
    "    print(a)\n",
    "elif (b>a and b>c):\n",
    "    print(b)\n",
    "else:\n",
    "    print(c)"
   ]
  },
  {
   "cell_type": "code",
   "execution_count": 10,
   "id": "642d3566-bb0d-4627-a23d-44ddc90be626",
   "metadata": {},
   "outputs": [
    {
     "name": "stdout",
     "output_type": "stream",
     "text": [
      "0\n",
      "1\n",
      "2\n",
      "3\n",
      "4\n",
      "5\n"
     ]
    }
   ],
   "source": [
    "a=0\n",
    "while(a<=5):\n",
    "    print(a)\n",
    "    a+=1"
   ]
  },
  {
   "cell_type": "code",
   "execution_count": 3,
   "id": "72768500-9c14-4e40-896b-79c9713ed8c1",
   "metadata": {},
   "outputs": [
    {
     "name": "stdout",
     "output_type": "stream",
     "text": [
      "Hello,Bob!\n"
     ]
    }
   ],
   "source": [
    "def greet(name):\n",
    "    print(f\"Hello,{name}!\")\n",
    "greet(\"Bob\")"
   ]
  },
  {
   "cell_type": "code",
   "execution_count": 1,
   "id": "e943b021-d701-41d0-bf14-77bbee1c0f2a",
   "metadata": {},
   "outputs": [
    {
     "name": "stdout",
     "output_type": "stream",
     "text": [
      "5\n"
     ]
    }
   ],
   "source": [
    "def add(a,b):\n",
    "    print(a+b)\n",
    "add(2,3)"
   ]
  },
  {
   "cell_type": "code",
   "execution_count": 8,
   "id": "240a146f-da51-49e2-81a9-1f0d92235e11",
   "metadata": {},
   "outputs": [
    {
     "data": {
      "text/plain": [
       "True"
      ]
     },
     "execution_count": 8,
     "metadata": {},
     "output_type": "execute_result"
    }
   ],
   "source": [
    "def is_even(n):\n",
    "    if(n%2==0):\n",
    "        return True\n",
    "    else:\n",
    "        return False\n",
    "is_even(4)"
   ]
  },
  {
   "cell_type": "code",
   "execution_count": 9,
   "id": "88aba786-86ce-420f-a119-93f52eff0d32",
   "metadata": {},
   "outputs": [
    {
     "name": "stdout",
     "output_type": "stream",
     "text": [
      "A\n"
     ]
    }
   ],
   "source": [
    "def grade(score):\n",
    "    if(score>=90 and score<=100):\n",
    "        print(\"A\")\n",
    "    elif(score>=80 and score<=90): \n",
    "        print(\"B\")\n",
    "    elif(score>=70 and score<=80):\n",
    "        print(\"C\")\n",
    "    elif(score>=60 and score<=70):\n",
    "        print(\"D\")\n",
    "    else:\n",
    "        print(\"F\")\n",
    "grade(95)        "
   ]
  },
  {
   "cell_type": "code",
   "execution_count": 10,
   "id": "0df8dde5-696a-4592-9540-e16d99e09a12",
   "metadata": {},
   "outputs": [
    {
     "name": "stdout",
     "output_type": "stream",
     "text": [
      "3.0\n",
      "4.0\n"
     ]
    }
   ],
   "source": [
    "def area_of_tri(b,h=3):\n",
    "    print(0.5*b*h)\n",
    "area_of_tri(2)\n",
    "area_of_tri(2,4)"
   ]
  },
  {
   "cell_type": "code",
   "execution_count": 11,
   "id": "872dcf7f-fb82-4943-839b-72e310a20bb5",
   "metadata": {},
   "outputs": [
    {
     "name": "stdout",
     "output_type": "stream",
     "text": [
      "25\n"
     ]
    },
    {
     "data": {
      "text/plain": [
       "125"
      ]
     },
     "execution_count": 11,
     "metadata": {},
     "output_type": "execute_result"
    }
   ],
   "source": [
    "def power(base, exponent=2):\n",
    "    return base ** exponent\n",
    "print(power(5))\n",
    "power(5,3)"
   ]
  },
  {
   "cell_type": "code",
   "execution_count": 2,
   "id": "223ccd9a-fda5-49c9-a4df-5f7f33f9e1fc",
   "metadata": {},
   "outputs": [
    {
     "name": "stdout",
     "output_type": "stream",
     "text": [
      "6\n"
     ]
    }
   ],
   "source": [
    "def sum_of_no(*a):\n",
    "    print(sum(a))\n",
    "sum_of_no(1,2,3)//"
   ]
  },
  {
   "cell_type": "code",
   "execution_count": 3,
   "id": "28226253-227e-49f3-912f-2f18656d84a7",
   "metadata": {},
   "outputs": [
    {
     "name": "stdout",
     "output_type": "stream",
     "text": [
      "9\n",
      "8\n"
     ]
    }
   ],
   "source": [
    "def square(x):\n",
    "    return x * x\n",
    "\n",
    "def cube(x):\n",
    "    return x * x * x\n",
    "\n",
    "print(square(3))\n",
    "print(cube(2))"
   ]
  },
  {
   "cell_type": "code",
   "execution_count": 5,
   "id": "7c79ad27-eea1-4c04-a4a0-c67525849212",
   "metadata": {},
   "outputs": [
    {
     "name": "stdout",
     "output_type": "stream",
     "text": [
      "16\n",
      "512\n"
     ]
    }
   ],
   "source": [
    "import modularpro\n",
    "\n",
    "print(square(4))\n",
    "print(cube(8))"
   ]
  },
  {
   "cell_type": "code",
   "execution_count": 22,
   "id": "aa5d0c46-4603-4441-813d-504069c41110",
   "metadata": {},
   "outputs": [
    {
     "name": "stdout",
     "output_type": "stream",
     "text": [
      "12.56\n",
      "6\n",
      "10.0\n"
     ]
    }
   ],
   "source": [
    "import areas\n",
    "\n",
    "print(acircle(2))\n",
    "print(arectangle(2, 3))\n",
    "print(atriangle(4, 5))"
   ]
  },
  {
   "cell_type": "code",
   "execution_count": null,
   "id": "b48621f5-1db2-440d-ab52-344f52387a66",
   "metadata": {},
   "outputs": [],
   "source": [
    "    "
   ]
  }
 ],
 "metadata": {
  "kernelspec": {
   "display_name": "Python 3 (ipykernel)",
   "language": "python",
   "name": "python3"
  },
  "language_info": {
   "codemirror_mode": {
    "name": "ipython",
    "version": 3
   },
   "file_extension": ".py",
   "mimetype": "text/x-python",
   "name": "python",
   "nbconvert_exporter": "python",
   "pygments_lexer": "ipython3",
   "version": "3.12.1"
  }
 },
 "nbformat": 4,
 "nbformat_minor": 5
}
